{
 "cells": [
  {
   "cell_type": "markdown",
   "metadata": {},
   "source": [
    "# 0.0 setting up"
   ]
  },
  {
   "cell_type": "code",
   "execution_count": 1,
   "metadata": {},
   "outputs": [],
   "source": [
    "import os\n",
    "# os.getcwd()\n",
    "os.chdir(\"C:\\\\Users\\\\DELL\\\\Desktop\\\\AnomalyDetectionChallenge\")"
   ]
  },
  {
   "cell_type": "code",
   "execution_count": 2,
   "metadata": {},
   "outputs": [],
   "source": [
    "import pandas as pd\n",
    "from collections import Counter\n",
    "import numpy as np\n",
    "from statistics import mean, stdev\n",
    "from math import sqrt"
   ]
  },
  {
   "cell_type": "markdown",
   "metadata": {},
   "source": [
    "----"
   ]
  },
  {
   "cell_type": "markdown",
   "metadata": {},
   "source": [
    "# 0.1 training datasets:"
   ]
  },
  {
   "cell_type": "code",
   "execution_count": 3,
   "metadata": {},
   "outputs": [],
   "source": [
    "data1 = pd.read_csv(\"hexacopter-hil-clean-01.kev.csv\")\n",
    "data2 = pd.read_csv(\"hexacopter-hil-clean-02.kev.csv\")\n",
    "data3 = pd.read_csv(\"hexacopter-hil-clean-03.kev.csv\")\n",
    "data4 = pd.read_csv(\"hexacopter-hil-clean-04.kev.csv\")\n",
    "data5 = pd.read_csv(\"hexacopter-hil-clean-05.kev.csv\")\n",
    "data6 = pd.read_csv(\"hexacopter-hil-clean-06.kev.csv\")\n",
    "data7 = pd.read_csv(\"hexacopter-hil-clean-07.kev.csv\")\n",
    "data8 = pd.read_csv(\"hexacopter-hil-clean-08.kev.csv\")\n",
    "data9 = pd.read_csv(\"hexacopter-hil-clean-09.kev.csv\")\n",
    "data10 = pd.read_csv(\"hexacopter-hil-clean-10.kev.csv\")"
   ]
  },
  {
   "cell_type": "markdown",
   "metadata": {},
   "source": [
    "# 0.2 testing datasets"
   ]
  },
  {
   "cell_type": "code",
   "execution_count": 4,
   "metadata": {},
   "outputs": [],
   "source": [
    "data11 = pd.read_csv(\"hexacopter-hil-fifo-ls-01.kev.csv\")\n",
    "data12 = pd.read_csv(\"hexacopter-hil-fifo-ls-02.kev.csv\")\n",
    "data13 = pd.read_csv(\"hexacopter-hil-fifo-ls-sporadic.kev.csv\")\n",
    "data14 = pd.read_csv(\"hexacopter-hil-full-while.kev.csv\")\n",
    "data15 = pd.read_csv(\"hexacopter-hil-half-while.kev.csv\")"
   ]
  },
  {
   "cell_type": "markdown",
   "metadata": {},
   "source": [
    "----"
   ]
  },
  {
   "cell_type": "markdown",
   "metadata": {},
   "source": [
    "# 1.0 definition of functions "
   ]
  },
  {
   "cell_type": "code",
   "execution_count": 7,
   "metadata": {},
   "outputs": [],
   "source": [
    "def get_commonkey():\n",
    "    \n",
    "    setlist=[]  # take the common key accross all key levels(ONLY training)\n",
    "    for i in range(1,11): \n",
    "        data=eval('data{}'.format(i))\n",
    "        data[\"key\"] = data[\"class\"]+data[\"event\"]\n",
    "        setlist=setlist+[set(data[\"key\"])]\n",
    "    common_key=setlist[0]\n",
    "    for i in range(1,len(setlist)):\n",
    "        common_key=common_key&setlist[i]   # common_key get, length 83 key level across all 10 training files!\n",
    "    return common_key\n",
    "\n",
    "def gen_model_df(dataframe):\n",
    "    newdata = []\n",
    "    dataframe[\"key\"] = dataframe[\"class\"] + dataframe[\"event\"]\n",
    "    dataframe[\"numKey\"] = dataframe[\"key\"].apply(lambda x: full_keyset.index(x) if x in full_keyset else -1)  \n",
    "    dataframe = dataframe[dataframe.numKey != -1]\n",
    "    dataframe[\"interval\"] = dataframe[\"time\"].diff()\n",
    "    dataframe = dataframe[dataframe.interval != 0]    # delete events that happen at same time(0.6% total records), current no better method!\n",
    "    dataframe.index = pd.RangeIndex(len(dataframe.index))\n",
    "    data_temp=dataframe[[\"key\",\"numKey\",\"interval\"]]\n",
    "    return data_temp\n",
    "\n",
    "\n",
    "def interval_matrix(transitions,interval):  # return transition Matrix and the Matrix of events average time interval\n",
    "    \n",
    "    n = 1+ max(transitions)  # number of states\n",
    "    M = [[0]*n for _ in range(n)] # transition matrix\n",
    "    N = [[0]*n for _ in range(n)] # average time matrix\n",
    "    X = [[0]*n for _ in range(n)] # standard deviation matrix\n",
    "    u = 0\n",
    "    for (i,j) in zip(transitions,transitions[1:]):\n",
    "        u += 1\n",
    "        M[i][j] += 1\n",
    "        N[i][j] += interval[u]\n",
    "        avg_local = N[i][j]/M[i][j]\n",
    "        absdis = interval[u]-avg_local\n",
    "        sdv_local = sqrt(absdis*absdis/(M[i][j]))\n",
    "        X[i][j] = sdv_local\n",
    "    \n",
    "    a = np.array(N)\n",
    "    b = np.array(M)\n",
    "    N = np.divide(a, b, out = np.zeros_like(a), where = b!= 0) # take average time interval of each event sequence\n",
    "        \n",
    "    #now convert to probabilities:\n",
    "    for row in M:\n",
    "        s = sum(row)\n",
    "        if s > 0:\n",
    "            row[:] = [f/s for f in row]\n",
    "    M = np.array(M)\n",
    "    X = np.array(X)\n",
    "    \n",
    "    return M,N,X\n",
    "\n",
    "\n",
    "def split_testing(data,N):  # split data onto many parts, return a list of data  \n",
    "    datas=np.array_split(data, N)\n",
    "    return datas\n",
    "\n",
    "\n",
    "def run_model(model_input):\n",
    "    transition_matrix, averagetime_matrix,std_matrix = interval_matrix(model_input[\"numKey\"],model_input[\"interval\"])\n",
    "    return transition_matrix, averagetime_matrix,std_matrix\n",
    "\n",
    "\n",
    "def train_anomaly(train_data):\n",
    "\n",
    "    result = []\n",
    "    avg_time = []\n",
    "    w_time = []\n",
    "\n",
    "    for i in range(len(train_data)):  \n",
    "\n",
    "        df_newdata = train_data[i]\n",
    "\n",
    "        split_df= split_testing(df_newdata,500)\n",
    "\n",
    "        for j in range(len(split_df)):\n",
    "\n",
    "            input_df = split_df[j]\n",
    "            df_model = gen_model_df(input_df)\n",
    "            tm,am,sm = run_model(df_model)\n",
    "            wti = tm*am\n",
    "    #         avg_time += [np.sum(am)/np.count_nonzero(am)]\n",
    "            w_time += [np.sum(wti)/np.count_nonzero(wti)]\n",
    "\n",
    "    return np.mean(w_time),np.std(w_time),np.max(w_time),np.min(w_time),np.ptp(w_time)\n",
    "\n",
    "\n",
    "def return_bounds(train_result,N):\n",
    "    \n",
    "    upper_bound = train_result[0] + N*train_result[1]\n",
    "    lower_bound = train_result[0] - N*train_result[1]\n",
    "    \n",
    "    return upper_bound, lower_bound\n",
    "\n",
    "def test_anomaly(test_data,bound):\n",
    "    \n",
    "    avg_time_t = []\n",
    "    w_time_t = []\n",
    "    anomaly_record = []\n",
    "    upper = bound[0]\n",
    "    lower = bound[1]\n",
    "\n",
    "    for i in range(len(test_data)):  \n",
    "\n",
    "        df_newdata = test_data[i]\n",
    "\n",
    "        split_df= split_testing(df_newdata,500)\n",
    "\n",
    "        for j in range(len(split_df)):\n",
    "\n",
    "            input_df = split_df[j]\n",
    "            df_model = gen_model_df(input_df)\n",
    "            tm,am,sm = run_model(df_model)\n",
    "            wti_t = tm*am\n",
    "            avg_wti_t = np.sum(wti)/np.count_nonzero(wti_t)\n",
    "\n",
    "            avg_time_t = np.sum(am)/np.count_nonzero(am)\n",
    "\n",
    "            w_time_t += [avg_wti_t]\n",
    "\n",
    "            if avg_wti_t > upper or avg_wti_t < lower:\n",
    "                anomaly_record += [(i,split_df[j].index,avg_time_t)] \n",
    "            \n",
    "    return anomaly_record\n"
   ]
  },
  {
   "cell_type": "markdown",
   "metadata": {},
   "source": [
    "# 1.1 golbal variables"
   ]
  },
  {
   "cell_type": "code",
   "execution_count": 8,
   "metadata": {},
   "outputs": [],
   "source": [
    "training_dataset = [eval('data{}'.format(i)) for i in range(1,11)]\n",
    "testing_dataset = [eval('data{}'.format(i)) for i in range(11,16)]\n",
    "full_keyset = get_commonkey()\n",
    "full_keyset = list(full_keyset)\n",
    "length = len(full_keyset)"
   ]
  },
  {
   "cell_type": "markdown",
   "metadata": {},
   "source": [
    "   def connect_to_next_port(self, minimum):\n",
    "    \"\"\"Connects to the next available port.\n",
    "\n",
    "    Args:\n",
    "      minimum: A port value greater or equal to 1024.\n",
    "\n",
    "    Returns:\n",
    "      The new minimum port.\n",
    "\n",
    "    Raises:\n",
    "      ConnectionError: If no available port is found.\n",
    "    \"\"\"\n",
    "    if minimum < 1024:\n",
    "      # Note that this raising of ValueError is not mentioned in the doc\n",
    "      # string's \"Raises:\" section because it is not appropriate to\n",
    "      # guarantee this specific behavioral reaction to API misuse.\n",
    "      raise ValueError('Minimum port must be at least 1024, not %d.' % (minimum,))\n",
    "    port = self._find_next_open_port(minimum)\n",
    "    if not port:\n",
    "      raise ConnectionError('Could not connect to service on %d or higher.' % (minimum,))\n",
    "    assert port >= minimum, 'Unexpected port %d when minimum was %d.' % (port, minimum)\n",
    "    return port"
   ]
  },
  {
   "cell_type": "markdown",
   "metadata": {},
   "source": [
    "# 2. training and testing model"
   ]
  },
  {
   "cell_type": "code",
   "execution_count": 27,
   "metadata": {},
   "outputs": [],
   "source": [
    "train_result = train_anomaly(training_dataset)\n",
    "\n",
    "bound=return_bounds(result,3) # 3*std time-prob is deemed anomaly\n",
    "\n",
    "test_result = test_anomaly(testing_dataset,bound)"
   ]
  },
  {
   "cell_type": "code",
   "execution_count": 51,
   "metadata": {},
   "outputs": [
    {
     "name": "stdout",
     "output_type": "stream",
     "text": [
      "[(0, RangeIndex(start=0, stop=3211, step=1), 464.4793720917418), (0, RangeIndex(start=12844, stop=16055, step=1), 819.5422055904493), (0, RangeIndex(start=38532, stop=41743, step=1), 740.2231621266967), (0, RangeIndex(start=41743, stop=44954, step=1), 718.4666347573759), (0, RangeIndex(start=54587, stop=57798, step=1), 269.93575122810915), (0, RangeIndex(start=61009, stop=64220, step=1), 553.0117176064458), (0, RangeIndex(start=73853, stop=77064, step=1), 718.8048663100245), (0, RangeIndex(start=77064, stop=80275, step=1), 551.0825943650195), (0, RangeIndex(start=80275, stop=83486, step=1), 1322.4752341530639), (0, RangeIndex(start=93119, stop=96330, step=1), 661.0822408997273), (0, RangeIndex(start=96330, stop=99541, step=1), 149.08523165880587), (0, RangeIndex(start=99541, stop=102752, step=1), 157.90871775767064), (0, RangeIndex(start=112385, stop=115596, step=1), 664.0056487229435), (0, RangeIndex(start=118807, stop=122018, step=1), 518.6059088066194), (0, RangeIndex(start=122018, stop=125229, step=1), 487.7517297645213), (0, RangeIndex(start=125229, stop=128440, step=1), 573.1091050948355), (0, RangeIndex(start=128440, stop=131651, step=1), 375.37307453032827), (0, RangeIndex(start=131651, stop=134862, step=1), 524.0032715122982), (0, RangeIndex(start=134862, stop=138073, step=1), 567.1053045054834), (0, RangeIndex(start=138073, stop=141284, step=1), 517.7792930910672), (0, RangeIndex(start=141284, stop=144495, step=1), 484.02583786822703), (0, RangeIndex(start=147706, stop=150917, step=1), 430.0290356523219), (0, RangeIndex(start=150917, stop=154128, step=1), 464.93776252557996), (0, RangeIndex(start=160550, stop=163761, step=1), 170.01796566139276), (0, RangeIndex(start=166972, stop=170183, step=1), 710.0049181560032), (0, RangeIndex(start=170183, stop=173394, step=1), 498.44226964244115), (0, RangeIndex(start=173394, stop=176605, step=1), 466.2315794403763), (0, RangeIndex(start=176605, stop=179816, step=1), 384.321813807071), (0, RangeIndex(start=189449, stop=192660, step=1), 616.9391763138607), (0, RangeIndex(start=192660, stop=195871, step=1), 457.0084976524987), (0, RangeIndex(start=195871, stop=199082, step=1), 415.2334314689255), (0, RangeIndex(start=199082, stop=202293, step=1), 493.6800991473219), (0, RangeIndex(start=202293, stop=205504, step=1), 527.4524469323975), (0, RangeIndex(start=205504, stop=208715, step=1), 472.19129860175684), (0, RangeIndex(start=208715, stop=211926, step=1), 559.8840318696274), (0, RangeIndex(start=211926, stop=215137, step=1), 467.5121760812818), (0, RangeIndex(start=215137, stop=218348, step=1), 490.7268305332602), (0, RangeIndex(start=218348, stop=221559, step=1), 487.85182063613394), (0, RangeIndex(start=221559, stop=224770, step=1), 331.1673437305268), (0, RangeIndex(start=227981, stop=231192, step=1), 125.95140101618117), (0, RangeIndex(start=234403, stop=237614, step=1), 534.5124365820062), (0, RangeIndex(start=237614, stop=240825, step=1), 584.6965379758747), (0, RangeIndex(start=240825, stop=244036, step=1), 575.5718707472815), (0, RangeIndex(start=244036, stop=247247, step=1), 533.3794089549023), (0, RangeIndex(start=247247, stop=250458, step=1), 747.3065626594519), (0, RangeIndex(start=250458, stop=253669, step=1), 337.22172895236696), (0, RangeIndex(start=253669, stop=256880, step=1), 410.2398769965916), (0, RangeIndex(start=256880, stop=260091, step=1), 297.2240467856563), (0, RangeIndex(start=266513, stop=269724, step=1), 542.8552084194133), (0, RangeIndex(start=279357, stop=282568, step=1), 710.9733339831373), (0, RangeIndex(start=292201, stop=295412, step=1), 537.8835964572038), (0, RangeIndex(start=305045, stop=308256, step=1), 808.707543376004), (0, RangeIndex(start=308256, stop=311467, step=1), 785.0376268768119), (0, RangeIndex(start=321100, stop=324311, step=1), 330.43579822856987), (0, RangeIndex(start=330733, stop=333944, step=1), 599.8649610516865), (0, RangeIndex(start=337155, stop=340366, step=1), 722.1307677597329), (0, RangeIndex(start=340366, stop=343577, step=1), 481.31039924649025), (0, RangeIndex(start=343577, stop=346788, step=1), 3302.3257910132443), (0, RangeIndex(start=356421, stop=359632, step=1), 720.1650197845402), (0, RangeIndex(start=359632, stop=362843, step=1), 239.45820832911343), (0, RangeIndex(start=362843, stop=366054, step=1), 152.9808660463907), (0, RangeIndex(start=372476, stop=375687, step=1), 188.53498753039875), (0, RangeIndex(start=375687, stop=378898, step=1), 577.4002574445586), (0, RangeIndex(start=382109, stop=385320, step=1), 564.5829281685621), (0, RangeIndex(start=385320, stop=388531, step=1), 520.1485910055629), (0, RangeIndex(start=388531, stop=391742, step=1), 573.0629719802088), (0, RangeIndex(start=391742, stop=394953, step=1), 442.701438920041), (0, RangeIndex(start=398164, stop=401375, step=1), 520.1920970500513), (0, RangeIndex(start=401375, stop=404586, step=1), 553.8880675778126), (0, RangeIndex(start=404586, stop=407797, step=1), 429.72386822341053), (0, RangeIndex(start=411008, stop=414219, step=1), 568.0263177081074), (0, RangeIndex(start=414219, stop=417430, step=1), 474.4350961837889), (0, RangeIndex(start=417430, stop=420641, step=1), 565.5878377031011), (0, RangeIndex(start=420641, stop=423852, step=1), 181.9582143587487), (0, RangeIndex(start=423852, stop=427063, step=1), 133.33999816105498), (0, RangeIndex(start=430274, stop=433485, step=1), 655.0143566074661), (0, RangeIndex(start=433485, stop=436696, step=1), 523.4679031160193), (0, RangeIndex(start=436696, stop=439907, step=1), 503.5787291464385), (0, RangeIndex(start=439907, stop=443118, step=1), 409.5645038823962), (0, RangeIndex(start=446329, stop=449540, step=1), 572.2034887620931), (0, RangeIndex(start=452751, stop=455962, step=1), 541.0169268374967), (0, RangeIndex(start=455962, stop=459173, step=1), 411.67402689152425), (0, RangeIndex(start=459173, stop=462384, step=1), 510.87985073272773), (0, RangeIndex(start=462384, stop=465595, step=1), 632.1642212734265), (0, RangeIndex(start=465595, stop=468806, step=1), 531.6629384683142), (0, RangeIndex(start=468806, stop=472017, step=1), 515.0253378216191), (0, RangeIndex(start=472017, stop=475228, step=1), 469.52551768618315), (0, RangeIndex(start=475228, stop=478439, step=1), 493.08083825786775), (0, RangeIndex(start=478439, stop=481650, step=1), 447.0110619208526), (0, RangeIndex(start=481650, stop=484861, step=1), 454.8195063676054), (0, RangeIndex(start=491283, stop=494494, step=1), 170.04423222871714), (0, RangeIndex(start=497705, stop=500916, step=1), 611.4897468035372), (0, RangeIndex(start=500916, stop=504127, step=1), 550.6417752888327), (0, RangeIndex(start=504127, stop=507338, step=1), 456.89153739468077), (0, RangeIndex(start=507338, stop=510549, step=1), 482.1364689873836), (0, RangeIndex(start=510549, stop=513760, step=1), 542.0645418704898), (0, RangeIndex(start=513760, stop=516971, step=1), 662.7955202389003), (0, RangeIndex(start=516971, stop=520182, step=1), 481.42154593336494), (0, RangeIndex(start=520182, stop=523393, step=1), 377.8978677446343), (0, RangeIndex(start=523393, stop=526604, step=1), 333.7028629655728), (0, RangeIndex(start=526604, stop=529815, step=1), 299.84829799177857), (0, RangeIndex(start=529815, stop=533026, step=1), 344.86009688308116), (0, RangeIndex(start=533026, stop=536237, step=1), 714.6618247903701), (0, RangeIndex(start=545870, stop=549081, step=1), 820.2120046898375), (0, RangeIndex(start=558714, stop=561925, step=1), 910.9704999656011), (0, RangeIndex(start=571558, stop=574769, step=1), 785.2020209478478), (0, RangeIndex(start=574769, stop=577980, step=1), 766.9383375520539), (0, RangeIndex(start=581191, stop=584402, step=1), 381.0566760874025), (0, RangeIndex(start=584402, stop=587613, step=1), 366.00646141268663), (0, RangeIndex(start=587613, stop=590824, step=1), 350.5671519394269), (0, RangeIndex(start=590824, stop=594035, step=1), 353.96386673362895), (0, RangeIndex(start=597246, stop=600457, step=1), 572.8964095528961), (0, RangeIndex(start=603668, stop=606879, step=1), 848.2102771602823), (0, RangeIndex(start=606879, stop=610090, step=1), 529.9640690891084), (0, RangeIndex(start=610090, stop=613301, step=1), 2829.3345797756806), (0, RangeIndex(start=616512, stop=619723, step=1), 250.23735996074944), (0, RangeIndex(start=622934, stop=626145, step=1), 823.5868620752085), (0, RangeIndex(start=626145, stop=629356, step=1), 175.84177622226335), (0, RangeIndex(start=629356, stop=632567, step=1), 145.24027022185552), (0, RangeIndex(start=632567, stop=635777, step=1), 722.0108858616164), (0, RangeIndex(start=635777, stop=638987, step=1), 146.86839884874436), (0, RangeIndex(start=642197, stop=645407, step=1), 771.0162021978463), (0, RangeIndex(start=645407, stop=648617, step=1), 657.468831733726), (0, RangeIndex(start=648617, stop=651827, step=1), 474.0238927568144), (0, RangeIndex(start=651827, stop=655037, step=1), 617.1042079050234), (0, RangeIndex(start=655037, stop=658247, step=1), 561.3245481500294), (0, RangeIndex(start=658247, stop=661457, step=1), 468.5390707528654), (0, RangeIndex(start=661457, stop=664667, step=1), 548.2927705644163), (0, RangeIndex(start=664667, stop=667877, step=1), 604.7638931352457), (0, RangeIndex(start=667877, stop=671087, step=1), 574.2218896877863), (0, RangeIndex(start=671087, stop=674297, step=1), 565.3228202401743), (0, RangeIndex(start=674297, stop=677507, step=1), 522.9650764303462), (0, RangeIndex(start=680717, stop=683927, step=1), 452.7036496621751), (0, RangeIndex(start=683927, stop=687137, step=1), 555.3976420994798), (0, RangeIndex(start=687137, stop=690347, step=1), 216.49743783029348), (0, RangeIndex(start=690347, stop=693557, step=1), 138.02503613355555), (0, RangeIndex(start=693557, stop=696767, step=1), 569.7564627383667), (0, RangeIndex(start=696767, stop=699977, step=1), 660.1893851645486), (0, RangeIndex(start=699977, stop=703187, step=1), 515.9752623339588), (0, RangeIndex(start=703187, stop=706397, step=1), 624.2488414320749), (0, RangeIndex(start=706397, stop=709607, step=1), 458.8181406191418), (0, RangeIndex(start=712817, stop=716027, step=1), 669.831911730893), (0, RangeIndex(start=719237, stop=722447, step=1), 573.5575771187691), (0, RangeIndex(start=722447, stop=725657, step=1), 519.2889795009295), (0, RangeIndex(start=725657, stop=728867, step=1), 517.5275151135636), (0, RangeIndex(start=728867, stop=732077, step=1), 537.6062599520582), (0, RangeIndex(start=732077, stop=735287, step=1), 499.183476192134), (0, RangeIndex(start=735287, stop=738497, step=1), 481.2913210969775), (0, RangeIndex(start=738497, stop=741707, step=1), 489.5490755421065), (0, RangeIndex(start=741707, stop=744917, step=1), 511.71397964698957), (0, RangeIndex(start=744917, stop=748127, step=1), 464.80753337259085), (0, RangeIndex(start=748127, stop=751337, step=1), 415.7822049861197), (0, RangeIndex(start=751337, stop=754547, step=1), 462.19224837159993), (0, RangeIndex(start=757757, stop=760967, step=1), 120.33514060629014), (0, RangeIndex(start=764177, stop=767387, step=1), 513.9281035141672), (0, RangeIndex(start=767387, stop=770597, step=1), 591.368338300064), (0, RangeIndex(start=770597, stop=773807, step=1), 502.3768508287021), (0, RangeIndex(start=773807, stop=777017, step=1), 534.1449546471089), (0, RangeIndex(start=777017, stop=780227, step=1), 588.6082079745701), (0, RangeIndex(start=780227, stop=783437, step=1), 658.6676744866159), (0, RangeIndex(start=783437, stop=786647, step=1), 490.8616077316607), (0, RangeIndex(start=786647, stop=789857, step=1), 401.1033725564755), (0, RangeIndex(start=793067, stop=796277, step=1), 400.1921466047452), (0, RangeIndex(start=799487, stop=802697, step=1), 446.9366514735631), (0, RangeIndex(start=812327, stop=815537, step=1), 816.4556829377307), (0, RangeIndex(start=831587, stop=834797, step=1), 689.107610863001), (0, RangeIndex(start=841217, stop=844427, step=1), 865.5092969420454), (0, RangeIndex(start=847637, stop=850847, step=1), 429.4102600640564), (0, RangeIndex(start=850847, stop=854057, step=1), 374.4809679310954), (0, RangeIndex(start=854057, stop=857267, step=1), 420.9194166696687), (0, RangeIndex(start=860477, stop=863687, step=1), 378.55299375767237), (0, RangeIndex(start=863687, stop=866897, step=1), 459.27341406749747), (0, RangeIndex(start=866897, stop=870107, step=1), 629.4734239126062), (0, RangeIndex(start=870107, stop=873317, step=1), 734.1203033058906), (0, RangeIndex(start=873317, stop=876527, step=1), 486.05961451341443), (0, RangeIndex(start=876527, stop=879737, step=1), 3269.3917251991015), (0, RangeIndex(start=892577, stop=895787, step=1), 232.37057101990914), (0, RangeIndex(start=895787, stop=898997, step=1), 218.4721769391024), (0, RangeIndex(start=898997, stop=902207, step=1), 801.5493232503687), (0, RangeIndex(start=902207, stop=905417, step=1), 156.0483402669015), (0, RangeIndex(start=905417, stop=908627, step=1), 631.8574995912043), (0, RangeIndex(start=911837, stop=915047, step=1), 630.0132548313904), (0, RangeIndex(start=918257, stop=921467, step=1), 596.4266415274026), (0, RangeIndex(start=921467, stop=924677, step=1), 595.4179920979062), (0, RangeIndex(start=924677, stop=927887, step=1), 542.6296988372254), (0, RangeIndex(start=927887, stop=931097, step=1), 572.5920573067633), (0, RangeIndex(start=931097, stop=934307, step=1), 672.0567411845901), (0, RangeIndex(start=934307, stop=937517, step=1), 576.8586233567155), (0, RangeIndex(start=937517, stop=940727, step=1), 567.5747164542416), (0, RangeIndex(start=940727, stop=943937, step=1), 601.9641549916556), (0, RangeIndex(start=943937, stop=947147, step=1), 585.7165341895723), (0, RangeIndex(start=947147, stop=950357, step=1), 513.1492276497223), (0, RangeIndex(start=950357, stop=953567, step=1), 675.3174381023973), (0, RangeIndex(start=953567, stop=956777, step=1), 164.9935751178001), (0, RangeIndex(start=956777, stop=959987, step=1), 165.5726746566642), (0, RangeIndex(start=963197, stop=966407, step=1), 622.9388268540413), (0, RangeIndex(start=966407, stop=969617, step=1), 738.8881427102752), (0, RangeIndex(start=969617, stop=972827, step=1), 595.7834654018753), (0, RangeIndex(start=972827, stop=976037, step=1), 489.6270587275977), (0, RangeIndex(start=979247, stop=982457, step=1), 579.8309766602854), (0, RangeIndex(start=982457, stop=985667, step=1), 249.72928230140283), (0, RangeIndex(start=985667, stop=988877, step=1), 707.939119405416), (0, RangeIndex(start=988877, stop=992087, step=1), 496.3422182134801), (0, RangeIndex(start=992087, stop=995297, step=1), 493.58822894029566), (0, RangeIndex(start=995297, stop=998507, step=1), 642.3036939067212), (0, RangeIndex(start=998507, stop=1001717, step=1), 547.6765902080525), (0, RangeIndex(start=1001717, stop=1004927, step=1), 510.32167813251937), (0, RangeIndex(start=1004927, stop=1008137, step=1), 672.2653122819034), (0, RangeIndex(start=1011347, stop=1014557, step=1), 646.6936658826997), (0, RangeIndex(start=1014557, stop=1017767, step=1), 489.17009964541984), (0, RangeIndex(start=1020977, stop=1024187, step=1), 565.0378139334146), (0, RangeIndex(start=1024187, stop=1027397, step=1), 231.96718333906742), (0, RangeIndex(start=1027397, stop=1030607, step=1), 179.9278448603503), (0, RangeIndex(start=1030607, stop=1033817, step=1), 735.0433707848028), (0, RangeIndex(start=1033817, stop=1037027, step=1), 646.8559993766706), (0, RangeIndex(start=1037027, stop=1040237, step=1), 614.5500069849923), (0, RangeIndex(start=1040237, stop=1043447, step=1), 571.6409642958731), (0, RangeIndex(start=1043447, stop=1046657, step=1), 557.303664035659), (0, RangeIndex(start=1046657, stop=1049867, step=1), 844.912726054074), (0, RangeIndex(start=1049867, stop=1053077, step=1), 563.0229715483887), (0, RangeIndex(start=1053077, stop=1056287, step=1), 625.0988533643634), (0, RangeIndex(start=1059497, stop=1062707, step=1), 377.1439254483191), (0, RangeIndex(start=1062707, stop=1065917, step=1), 460.0378299144546), (0, RangeIndex(start=1065917, stop=1069127, step=1), 408.0658780471911), (0, RangeIndex(start=1069127, stop=1072337, step=1), 498.719604092776), (0, RangeIndex(start=1072337, stop=1075547, step=1), 982.1974398767003), (0, RangeIndex(start=1085177, stop=1088387, step=1), 832.7536505759061), (0, RangeIndex(start=1094807, stop=1098017, step=1), 845.1544966945573), (0, RangeIndex(start=1107647, stop=1110857, step=1), 865.6418376214704), (0, RangeIndex(start=1110857, stop=1114067, step=1), 953.4328093767908), (0, RangeIndex(start=1120487, stop=1123697, step=1), 452.0407208650806), (0, RangeIndex(start=1123697, stop=1126907, step=1), 452.4693458167544), (0, RangeIndex(start=1126907, stop=1130117, step=1), 501.3601483582548), (0, RangeIndex(start=1130117, stop=1133327, step=1), 484.1784881649015), (0, RangeIndex(start=1133327, stop=1136537, step=1), 523.9177453538973), (0, RangeIndex(start=1136537, stop=1139747, step=1), 702.5777991908291), (0, RangeIndex(start=1139747, stop=1142957, step=1), 555.8322837752698), (0, RangeIndex(start=1142957, stop=1146167, step=1), 2724.563755090022), (0, RangeIndex(start=1149377, stop=1152587, step=1), 199.76970985234573), (0, RangeIndex(start=1155797, stop=1159007, step=1), 870.9800602179951), (0, RangeIndex(start=1159007, stop=1162217, step=1), 441.5808406884883), (0, RangeIndex(start=1162217, stop=1165427, step=1), 145.48248841088497), (0, RangeIndex(start=1171847, stop=1175057, step=1), 171.8897167068698), (0, RangeIndex(start=1175057, stop=1178267, step=1), 651.1190409005108), (0, RangeIndex(start=1181477, stop=1184687, step=1), 723.7021978941768), (0, RangeIndex(start=1187897, stop=1191107, step=1), 674.1306606739428), (0, RangeIndex(start=1191107, stop=1194317, step=1), 604.1433092298321), (0, RangeIndex(start=1194317, stop=1197527, step=1), 513.0494596112075), (0, RangeIndex(start=1197527, stop=1200737, step=1), 518.0866513338677), (0, RangeIndex(start=1200737, stop=1203947, step=1), 597.065723391757), (0, RangeIndex(start=1203947, stop=1207157, step=1), 650.1268242116155), (0, RangeIndex(start=1207157, stop=1210367, step=1), 491.6268068106826), (0, RangeIndex(start=1210367, stop=1213577, step=1), 535.1720969402846), (0, RangeIndex(start=1216787, stop=1219997, step=1), 489.62152620234997), (0, RangeIndex(start=1219997, stop=1223207, step=1), 515.5735331882194), (0, RangeIndex(start=1223207, stop=1226417, step=1), 174.90782948956877), (0, RangeIndex(start=1226417, stop=1229627, step=1), 111.49602259230578), (0, RangeIndex(start=1232837, stop=1236047, step=1), 566.124078993459), (0, RangeIndex(start=1236047, stop=1239257, step=1), 645.0239152715473), (0, RangeIndex(start=1239257, stop=1242467, step=1), 596.4704510779285), (0, RangeIndex(start=1245677, stop=1248887, step=1), 830.5022384281001), (0, RangeIndex(start=1248887, stop=1252097, step=1), 388.5853256586784), (0, RangeIndex(start=1252097, stop=1255307, step=1), 595.9273485492475), (0, RangeIndex(start=1255307, stop=1258517, step=1), 658.8976370180387), (0, RangeIndex(start=1258517, stop=1261727, step=1), 600.5156899482906), (0, RangeIndex(start=1261727, stop=1264937, step=1), 605.3558610638377), (0, RangeIndex(start=1264937, stop=1268147, step=1), 616.2338251238536), (0, RangeIndex(start=1268147, stop=1271357, step=1), 693.7839106264005), (0, RangeIndex(start=1271357, stop=1274567, step=1), 595.6921663098495), (0, RangeIndex(start=1277777, stop=1280987, step=1), 613.4651159013035), (0, RangeIndex(start=1280987, stop=1284197, step=1), 629.2854616051236), (0, RangeIndex(start=1284197, stop=1287407, step=1), 564.1636664097609), (0, RangeIndex(start=1287407, stop=1290617, step=1), 481.9819742987551), (0, RangeIndex(start=1290617, stop=1293827, step=1), 145.55422747565592), (0, RangeIndex(start=1297037, stop=1300247, step=1), 865.5905904532178), (0, RangeIndex(start=1303457, stop=1306667, step=1), 674.6926560812088), (0, RangeIndex(start=1306667, stop=1309877, step=1), 571.7217503005727), (0, RangeIndex(start=1309877, stop=1313087, step=1), 889.1570045135638), (0, RangeIndex(start=1313087, stop=1316297, step=1), 468.12380598038044), (0, RangeIndex(start=1316297, stop=1319507, step=1), 823.0752490480272), (0, RangeIndex(start=1322717, stop=1325927, step=1), 746.3700667486005), (0, RangeIndex(start=1335557, stop=1338767, step=1), 770.466610517055), (0, RangeIndex(start=1348397, stop=1351607, step=1), 792.0810209616446), (0, RangeIndex(start=1351607, stop=1354817, step=1), 921.8419348120796), (0, RangeIndex(start=1358027, stop=1361237, step=1), 854.6765053877591), (0, RangeIndex(start=1361237, stop=1364447, step=1), 988.3952823985597), (0, RangeIndex(start=1374077, stop=1377287, step=1), 966.6185519446217), (0, RangeIndex(start=1380497, stop=1383707, step=1), 727.2898065346084), (0, RangeIndex(start=1383707, stop=1386917, step=1), 596.0579764135192), (0, RangeIndex(start=1386917, stop=1390127, step=1), 1871.2463497526512), (0, RangeIndex(start=1402967, stop=1406177, step=1), 352.70118495744214), (0, RangeIndex(start=1409387, stop=1412597, step=1), 718.8048410884564), (0, RangeIndex(start=1412597, stop=1415807, step=1), 157.59690209041912), (0, RangeIndex(start=1422227, stop=1425437, step=1), 725.2577641112899), (0, RangeIndex(start=1428647, stop=1431857, step=1), 803.2144831426504), (0, RangeIndex(start=1431857, stop=1435067, step=1), 635.9196713429656), (0, RangeIndex(start=1435067, stop=1438277, step=1), 637.6908843279625), (0, RangeIndex(start=1438277, stop=1441487, step=1), 696.101780905062), (0, RangeIndex(start=1441487, stop=1444697, step=1), 604.3617183969269), (0, RangeIndex(start=1444697, stop=1447907, step=1), 584.6305682187399), (0, RangeIndex(start=1447907, stop=1451117, step=1), 611.8573728547912), (0, RangeIndex(start=1454327, stop=1457537, step=1), 739.1812641966853), (0, RangeIndex(start=1457537, stop=1460747, step=1), 568.7076887526706), (0, RangeIndex(start=1467167, stop=1470377, step=1), 137.43520362599926), (0, RangeIndex(start=1473587, stop=1476797, step=1), 748.9737942640267), (0, RangeIndex(start=1476797, stop=1480007, step=1), 644.7727599644307), (0, RangeIndex(start=1480007, stop=1483217, step=1), 697.5946567182514), (0, RangeIndex(start=1483217, stop=1486427, step=1), 539.1323760196519), (0, RangeIndex(start=1489637, stop=1492847, step=1), 713.2493997605159), (0, RangeIndex(start=1496057, stop=1499267, step=1), 780.6652331542615), (0, RangeIndex(start=1499267, stop=1502477, step=1), 578.491753665104), (0, RangeIndex(start=1502477, stop=1505687, step=1), 718.1819629989791), (0, RangeIndex(start=1505687, stop=1508897, step=1), 635.5977561553384), (0, RangeIndex(start=1508897, stop=1512107, step=1), 628.7436672983141), (0, RangeIndex(start=1512107, stop=1515317, step=1), 568.8215651730188), (0, RangeIndex(start=1515317, stop=1518527, step=1), 599.58924097819), (0, RangeIndex(start=1518527, stop=1521737, step=1), 635.4492287258905), (0, RangeIndex(start=1521737, stop=1524947, step=1), 637.4666838368147), (0, RangeIndex(start=1524947, stop=1528157, step=1), 620.0078949720062), (0, RangeIndex(start=1528157, stop=1531367, step=1), 626.7249045965009), (0, RangeIndex(start=1531367, stop=1534577, step=1), 146.29936340197466), (0, RangeIndex(start=1534577, stop=1537787, step=1), 146.6330166011336), (0, RangeIndex(start=1540997, stop=1544207, step=1), 802.8397449080717), (0, RangeIndex(start=1544207, stop=1547417, step=1), 692.347300562792), (0, RangeIndex(start=1547417, stop=1550627, step=1), 673.4066100231221), (0, RangeIndex(start=1550627, stop=1553837, step=1), 598.8187648936591), (0, RangeIndex(start=1553837, stop=1557047, step=1), 842.5298794939262), (0, RangeIndex(start=1557047, stop=1560257, step=1), 551.8356886253822), (0, RangeIndex(start=1560257, stop=1563467, step=1), 877.3333035219204), (0, RangeIndex(start=1569887, stop=1573097, step=1), 1196.9908500750337), (0, RangeIndex(start=1573097, stop=1576307, step=1), 952.7429250474156), (0, RangeIndex(start=1582727, stop=1585937, step=1), 1070.0920421253347), (0, RangeIndex(start=1595567, stop=1598777, step=1), 979.2105740301536), (0, RangeIndex(start=1598777, stop=1601987, step=1), 749.5038929923041), (1, RangeIndex(start=0, stop=3284, step=1), 461.59104646877313), (1, RangeIndex(start=3284, stop=6568, step=1), 693.6930722167655), (1, RangeIndex(start=13136, stop=16420, step=1), 588.5721286834357), (1, RangeIndex(start=26272, stop=29556, step=1), 557.7279933735933), (1, RangeIndex(start=42692, stop=45976, step=1), 401.44154192408934), (1, RangeIndex(start=49260, stop=52544, step=1), 272.1498065159183), (1, RangeIndex(start=52544, stop=55828, step=1), 283.40028646197374), (1, RangeIndex(start=55828, stop=59112, step=1), 323.92056858012296), (1, RangeIndex(start=62396, stop=65680, step=1), 604.6297358801544), (1, RangeIndex(start=75532, stop=78816, step=1), 730.0323870573803), (1, RangeIndex(start=78816, stop=82100, step=1), 472.3876441047164), (1, RangeIndex(start=98520, stop=101804, step=1), 140.09183327165604), (1, RangeIndex(start=105088, stop=108372, step=1), 669.944850874633), (1, RangeIndex(start=108372, stop=111656, step=1), 158.87290339882034), (1, RangeIndex(start=111656, stop=114940, step=1), 531.8588811217259), (1, RangeIndex(start=118224, stop=121508, step=1), 592.741853536027), (1, RangeIndex(start=124792, stop=128076, step=1), 553.1942582620692), (1, RangeIndex(start=128076, stop=131360, step=1), 518.2361383724025), (1, RangeIndex(start=131360, stop=134644, step=1), 441.59240851259324), (1, RangeIndex(start=134644, stop=137928, step=1), 509.6484964074733), (1, RangeIndex(start=137928, stop=141212, step=1), 523.9837355749731), (1, RangeIndex(start=141212, stop=144496, step=1), 537.5974143841092), (1, RangeIndex(start=147780, stop=151064, step=1), 539.0920337310226), (1, RangeIndex(start=151064, stop=154348, step=1), 477.30219601016444), (1, RangeIndex(start=160916, stop=164200, step=1), 136.01525911324538), (1, RangeIndex(start=164200, stop=167484, step=1), 315.7836433949385), (1, RangeIndex(start=167484, stop=170768, step=1), 662.9744733186088), (1, RangeIndex(start=170768, stop=174052, step=1), 536.5267819020017), (1, RangeIndex(start=174052, stop=177336, step=1), 490.5370497269958), (1, RangeIndex(start=177336, stop=180620, step=1), 505.19289542347866), (1, RangeIndex(start=183904, stop=187188, step=1), 607.960211491641), (1, RangeIndex(start=187188, stop=190472, step=1), 413.59919961684403), (1, RangeIndex(start=190472, stop=193756, step=1), 552.5135499929489), (1, RangeIndex(start=193756, stop=197040, step=1), 451.2713099342323), (1, RangeIndex(start=197040, stop=200324, step=1), 544.6017099039885), (1, RangeIndex(start=200324, stop=203608, step=1), 532.8738708078413), (1, RangeIndex(start=203608, stop=206892, step=1), 493.9419624575933), (1, RangeIndex(start=206892, stop=210176, step=1), 554.5400794098415), (1, RangeIndex(start=210176, stop=213460, step=1), 593.1035061658821), (1, RangeIndex(start=213460, stop=216744, step=1), 446.3431086703065), (1, RangeIndex(start=216744, stop=220028, step=1), 398.6285629435608), (1, RangeIndex(start=220028, stop=223312, step=1), 437.75487266630813), (1, RangeIndex(start=223312, stop=226596, step=1), 527.7705200974517), (1, RangeIndex(start=226596, stop=229880, step=1), 177.50411342898732), (1, RangeIndex(start=229880, stop=233164, step=1), 124.63948729005723), (1, RangeIndex(start=236448, stop=239732, step=1), 503.7181608371637), (1, RangeIndex(start=239732, stop=243016, step=1), 579.7888525435934), (1, RangeIndex(start=243016, stop=246300, step=1), 382.01581487760734), (1, RangeIndex(start=246300, stop=249584, step=1), 414.8231088025103), (1, RangeIndex(start=249584, stop=252868, step=1), 711.9245748932909), (1, RangeIndex(start=252868, stop=256152, step=1), 474.6875031357809), (1, RangeIndex(start=256152, stop=259436, step=1), 434.94476814683566), (1, RangeIndex(start=262720, stop=266004, step=1), 270.68185651221904), (1, RangeIndex(start=269288, stop=272572, step=1), 558.7960484775821), (1, RangeIndex(start=275856, stop=279140, step=1), 580.1386523092624), (1, RangeIndex(start=282424, stop=285708, step=1), 651.0564115508303), (1, RangeIndex(start=288992, stop=292276, step=1), 661.9447959245077), (1, RangeIndex(start=292276, stop=295560, step=1), 635.8242048948586), (1, RangeIndex(start=295560, stop=298844, step=1), 703.0268948346609), (1, RangeIndex(start=308696, stop=311980, step=1), 775.6505381276355), (1, RangeIndex(start=311980, stop=315264, step=1), 739.2050464426392), (1, RangeIndex(start=315264, stop=318548, step=1), 293.26839388736647), (1, RangeIndex(start=318548, stop=321832, step=1), 335.24980231270786), (1, RangeIndex(start=331684, stop=334968, step=1), 293.4149883915948), (1, RangeIndex(start=334968, stop=338252, step=1), 537.0889712463495), (1, RangeIndex(start=341536, stop=344820, step=1), 622.713924956473), (1, RangeIndex(start=344820, stop=348104, step=1), 655.7957853842681), (1, RangeIndex(start=348104, stop=351388, step=1), 1619.0040440460539), (1, RangeIndex(start=364524, stop=367808, step=1), 235.40078570809862), (1, RangeIndex(start=367808, stop=371092, step=1), 140.80344030523085), (1, RangeIndex(start=371092, stop=374376, step=1), 585.6453412642906), (1, RangeIndex(start=374376, stop=377660, step=1), 125.39629996009491), (1, RangeIndex(start=380944, stop=384228, step=1), 776.7289204960521), (1, RangeIndex(start=384228, stop=387512, step=1), 648.3827579088553), (1, RangeIndex(start=387512, stop=390796, step=1), 499.3797518390634), (1, RangeIndex(start=390796, stop=394080, step=1), 543.7655421465525), (1, RangeIndex(start=394080, stop=397364, step=1), 506.41957818281895), (1, RangeIndex(start=397364, stop=400648, step=1), 454.51370595860107), (1, RangeIndex(start=400648, stop=403932, step=1), 589.5442200902037), (1, RangeIndex(start=403932, stop=407216, step=1), 571.7068613404891), (1, RangeIndex(start=407216, stop=410500, step=1), 477.57113929679883), (1, RangeIndex(start=410500, stop=413784, step=1), 461.0769724521674), (1, RangeIndex(start=413784, stop=417068, step=1), 500.44655816059867), (1, RangeIndex(start=417068, stop=420352, step=1), 496.7818951473394), (1, RangeIndex(start=420352, stop=423636, step=1), 478.19488202926357), (1, RangeIndex(start=423636, stop=426920, step=1), 505.5046145556916), (1, RangeIndex(start=426920, stop=430204, step=1), 157.97914462034922), (1, RangeIndex(start=430204, stop=433488, step=1), 124.52979262518494), (1, RangeIndex(start=433488, stop=436772, step=1), 722.7799785444331), (1, RangeIndex(start=436772, stop=440056, step=1), 522.853714101704), (1, RangeIndex(start=440056, stop=443340, step=1), 550.4848311566977), (1, RangeIndex(start=443340, stop=446624, step=1), 510.1254840763571), (1, RangeIndex(start=446624, stop=449908, step=1), 812.8665044461587), (1, RangeIndex(start=449908, stop=453192, step=1), 549.1300485435186), (1, RangeIndex(start=453192, stop=456476, step=1), 449.8208299000387), (1, RangeIndex(start=456476, stop=459760, step=1), 424.61782869755183), (1, RangeIndex(start=459760, stop=463044, step=1), 491.35117067542114), (1, RangeIndex(start=463044, stop=466328, step=1), 540.862062461766), (1, RangeIndex(start=466328, stop=469612, step=1), 500.13484548000577), (1, RangeIndex(start=469612, stop=472896, step=1), 532.5253754455157), (1, RangeIndex(start=472896, stop=476180, step=1), 524.9515494279652), (1, RangeIndex(start=476180, stop=479464, step=1), 509.3111766718668), (1, RangeIndex(start=479464, stop=482748, step=1), 483.4552501131943), (1, RangeIndex(start=482748, stop=486032, step=1), 512.4761500738236), (1, RangeIndex(start=486032, stop=489316, step=1), 410.44421698225506), (1, RangeIndex(start=492600, stop=495884, step=1), 562.9773400372103), (1, RangeIndex(start=495884, stop=499168, step=1), 175.28503071600375), (1, RangeIndex(start=499168, stop=502452, step=1), 166.32480123275914), (1, RangeIndex(start=502452, stop=505736, step=1), 619.1140567065019), (1, RangeIndex(start=505736, stop=509020, step=1), 541.0648467741794), (1, RangeIndex(start=509020, stop=512304, step=1), 544.601169430477), (1, RangeIndex(start=512304, stop=515588, step=1), 472.7927213712789), (1, RangeIndex(start=515588, stop=518872, step=1), 516.1273758228183), (1, RangeIndex(start=518872, stop=522156, step=1), 693.8056791892623), (1, RangeIndex(start=522156, stop=525440, step=1), 428.88223634782173), (1, RangeIndex(start=525440, stop=528724, step=1), 542.0720823261822), (1, RangeIndex(start=528724, stop=532008, step=1), 379.87835791352427), (1, RangeIndex(start=532008, stop=535292, step=1), 338.14125670781925), (1, RangeIndex(start=535292, stop=538576, step=1), 320.91269815027755), (1, RangeIndex(start=538576, stop=541860, step=1), 526.844499155141), (1, RangeIndex(start=541860, stop=545144, step=1), 735.8025055808722), (1, RangeIndex(start=551712, stop=554996, step=1), 626.4059264996256), (1, RangeIndex(start=564848, stop=568132, step=1), 814.2860179648178), (1, RangeIndex(start=574700, stop=577984, step=1), 835.055290044677), (1, RangeIndex(start=577984, stop=581268, step=1), 709.6148123244299), (1, RangeIndex(start=581268, stop=584552, step=1), 653.3095573426637), (1, RangeIndex(start=587836, stop=591120, step=1), 321.45967064938566), (1, RangeIndex(start=591120, stop=594404, step=1), 401.4855207558622), (1, RangeIndex(start=594404, stop=597688, step=1), 363.6130412058563), (1, RangeIndex(start=600972, stop=604256, step=1), 340.7232338067633), (1, RangeIndex(start=604256, stop=607540, step=1), 427.67162392825475), (1, RangeIndex(start=610824, stop=614108, step=1), 903.1133513557266), (1, RangeIndex(start=614108, stop=617392, step=1), 595.2434773166788), (1, RangeIndex(start=617392, stop=620676, step=1), 2707.065997918335), (1, RangeIndex(start=630527, stop=633810, step=1), 490.16772449264676), (1, RangeIndex(start=633810, stop=637093, step=1), 309.8696746187855), (1, RangeIndex(start=637093, stop=640376, step=1), 168.54517713375887), (1, RangeIndex(start=640376, stop=643659, step=1), 693.5347188796529), (1, RangeIndex(start=643659, stop=646942, step=1), 129.15489059217802), (1, RangeIndex(start=653508, stop=656791, step=1), 695.4036765200202), (1, RangeIndex(start=660074, stop=663357, step=1), 645.5755625682127), (1, RangeIndex(start=663357, stop=666640, step=1), 546.0531203857008), (1, RangeIndex(start=666640, stop=669923, step=1), 518.7449187978327), (1, RangeIndex(start=669923, stop=673206, step=1), 696.7375326408048), (1, RangeIndex(start=673206, stop=676489, step=1), 480.5315398699272), (1, RangeIndex(start=676489, stop=679772, step=1), 489.3728230577164), (1, RangeIndex(start=683055, stop=686338, step=1), 598.695536157585), (1, RangeIndex(start=686338, stop=689621, step=1), 611.8618586768146), (1, RangeIndex(start=692904, stop=696187, step=1), 607.80345826817), (1, RangeIndex(start=696187, stop=699470, step=1), 177.43953817183063), (1, RangeIndex(start=699470, stop=702753, step=1), 160.46625712308978), (1, RangeIndex(start=702753, stop=706036, step=1), 709.0865470871072), (1, RangeIndex(start=706036, stop=709319, step=1), 562.8443396782181), (1, RangeIndex(start=709319, stop=712602, step=1), 484.1288218928867), (1, RangeIndex(start=712602, stop=715885, step=1), 578.1610056072884), (1, RangeIndex(start=719168, stop=722451, step=1), 634.2560957720344), (1, RangeIndex(start=722451, stop=725734, step=1), 481.08459941126375), (1, RangeIndex(start=725734, stop=729017, step=1), 602.0126316468868), (1, RangeIndex(start=729017, stop=732300, step=1), 517.5161930236385), (1, RangeIndex(start=732300, stop=735583, step=1), 518.3324993210043), (1, RangeIndex(start=735583, stop=738866, step=1), 488.32491861136003), (1, RangeIndex(start=738866, stop=742149, step=1), 585.8882716844233), (1, RangeIndex(start=742149, stop=745432, step=1), 569.7036547580227), (1, RangeIndex(start=745432, stop=748715, step=1), 568.520328122517), (1, RangeIndex(start=751998, stop=755281, step=1), 723.3734829452245), (1, RangeIndex(start=755281, stop=758564, step=1), 380.42439652612853), (1, RangeIndex(start=761847, stop=765130, step=1), 587.8150755191756), (1, RangeIndex(start=765130, stop=768413, step=1), 190.72478953027942), (1, RangeIndex(start=771696, stop=774979, step=1), 716.6164705273576), (1, RangeIndex(start=774979, stop=778262, step=1), 605.8403946279345), (1, RangeIndex(start=778262, stop=781545, step=1), 610.8167490184305), (1, RangeIndex(start=781545, stop=784828, step=1), 551.2258432718625), (1, RangeIndex(start=784828, stop=788111, step=1), 545.3918433378527), (1, RangeIndex(start=788111, stop=791394, step=1), 721.5282466136217), (1, RangeIndex(start=791394, stop=794677, step=1), 393.5211057894206), (1, RangeIndex(start=794677, stop=797960, step=1), 535.5846918180523), (1, RangeIndex(start=804526, stop=807809, step=1), 429.33958785203436), (1, RangeIndex(start=807809, stop=811092, step=1), 449.30820503811384), (1, RangeIndex(start=811092, stop=814375, step=1), 692.1844737881968), (1, RangeIndex(start=824224, stop=827507, step=1), 868.7513320557816), (1, RangeIndex(start=837356, stop=840639, step=1), 743.8263658365739), (1, RangeIndex(start=850488, stop=853771, step=1), 655.3436982005273), (1, RangeIndex(start=853771, stop=857054, step=1), 545.3975287461142), (1, RangeIndex(start=857054, stop=860337, step=1), 353.6887474753782), (1, RangeIndex(start=860337, stop=863620, step=1), 425.8145757782374), (1, RangeIndex(start=863620, stop=866903, step=1), 415.42361421728134), (1, RangeIndex(start=866903, stop=870186, step=1), 409.9178363091824), (1, RangeIndex(start=870186, stop=873469, step=1), 439.01474805524134), (1, RangeIndex(start=873469, stop=876752, step=1), 456.49082427556755), (1, RangeIndex(start=876752, stop=880035, step=1), 548.0188816928118), (1, RangeIndex(start=880035, stop=883318, step=1), 802.0791237922303), (1, RangeIndex(start=883318, stop=886601, step=1), 570.9017876894609), (1, RangeIndex(start=896450, stop=899733, step=1), 760.5057796658328), (1, RangeIndex(start=903016, stop=906299, step=1), 150.07866034006906), (1, RangeIndex(start=909582, stop=912865, step=1), 811.547097590618), (1, RangeIndex(start=912865, stop=916148, step=1), 190.9933065959469), (1, RangeIndex(start=916148, stop=919431, step=1), 609.9364927462021), (1, RangeIndex(start=922714, stop=925997, step=1), 584.659578624644), (1, RangeIndex(start=929280, stop=932563, step=1), 687.6653550236755), (1, RangeIndex(start=932563, stop=935846, step=1), 586.7785397143986), (1, RangeIndex(start=935846, stop=939129, step=1), 637.9876462207244), (1, RangeIndex(start=939129, stop=942412, step=1), 550.5272214231202), (1, RangeIndex(start=942412, stop=945695, step=1), 555.8908523332741), (1, RangeIndex(start=945695, stop=948978, step=1), 587.2287740845086), (1, RangeIndex(start=948978, stop=952261, step=1), 614.8728605831452), (1, RangeIndex(start=952261, stop=955544, step=1), 620.1007688481312), (1, RangeIndex(start=955544, stop=958827, step=1), 561.1699190252309), (1, RangeIndex(start=962110, stop=965393, step=1), 554.7497632205724), (1, RangeIndex(start=968676, stop=971959, step=1), 136.79912933478957), (1, RangeIndex(start=971959, stop=975242, step=1), 718.2862196108969), (1, RangeIndex(start=975242, stop=978525, step=1), 649.7754124572665), (1, RangeIndex(start=978525, stop=981808, step=1), 503.41601368074873), (1, RangeIndex(start=981808, stop=985091, step=1), 574.8861244439437), (1, RangeIndex(start=985091, stop=988374, step=1), 828.5833534011766), (1, RangeIndex(start=991657, stop=994940, step=1), 548.6705109319751), (1, RangeIndex(start=994940, stop=998223, step=1), 567.7514890499889), (1, RangeIndex(start=998223, stop=1001506, step=1), 559.3712583708638), (1, RangeIndex(start=1001506, stop=1004789, step=1), 523.9478345938157), (1, RangeIndex(start=1004789, stop=1008072, step=1), 560.6979617597725), (1, RangeIndex(start=1008072, stop=1011355, step=1), 570.6647928878149), (1, RangeIndex(start=1011355, stop=1014638, step=1), 609.4669742912284), (1, RangeIndex(start=1014638, stop=1017921, step=1), 562.7906976308097), (1, RangeIndex(start=1017921, stop=1021204, step=1), 479.3726503142907), (1, RangeIndex(start=1021204, stop=1024487, step=1), 560.4988115615402), (1, RangeIndex(start=1024487, stop=1027770, step=1), 533.6648935685921), (1, RangeIndex(start=1027770, stop=1031053, step=1), 568.5777448219385), (1, RangeIndex(start=1031053, stop=1034336, step=1), 659.8007215391448), (1, RangeIndex(start=1034336, stop=1037619, step=1), 155.9186946499642), (1, RangeIndex(start=1037619, stop=1040902, step=1), 132.01201263132492), (1, RangeIndex(start=1040902, stop=1044185, step=1), 741.1113407142658), (1, RangeIndex(start=1044185, stop=1047468, step=1), 528.977214167585), (1, RangeIndex(start=1047468, stop=1050751, step=1), 669.7262863854461), (1, RangeIndex(start=1050751, stop=1054034, step=1), 527.550639127268), (1, RangeIndex(start=1054034, stop=1057317, step=1), 537.6430281358558), (1, RangeIndex(start=1057317, stop=1060600, step=1), 814.4468662303626), (1, RangeIndex(start=1060600, stop=1063883, step=1), 497.80438468069644), (1, RangeIndex(start=1063883, stop=1067166, step=1), 538.9878010140826), (1, RangeIndex(start=1067166, stop=1070449, step=1), 432.7957175537165), (1, RangeIndex(start=1073732, stop=1077015, step=1), 459.97747904627187), (1, RangeIndex(start=1077015, stop=1080298, step=1), 518.400334193375), (1, RangeIndex(start=1080298, stop=1083581, step=1), 463.7599057287088), (1, RangeIndex(start=1093430, stop=1096713, step=1), 820.4076389427264), (1, RangeIndex(start=1106562, stop=1109845, step=1), 829.3208061271815), (1, RangeIndex(start=1119694, stop=1122977, step=1), 703.3943717637259), (1, RangeIndex(start=1122977, stop=1126260, step=1), 913.9606420604936), (1, RangeIndex(start=1129543, stop=1132826, step=1), 486.278233908414), (1, RangeIndex(start=1132826, stop=1136109, step=1), 545.0463798676043), (1, RangeIndex(start=1136109, stop=1139392, step=1), 493.5354039114706), (1, RangeIndex(start=1139392, stop=1142675, step=1), 482.0920056955094), (1, RangeIndex(start=1142675, stop=1145958, step=1), 495.32642015733336), (1, RangeIndex(start=1145958, stop=1149241, step=1), 523.9690838809211), (1, RangeIndex(start=1149241, stop=1152524, step=1), 788.6946834071264), (1, RangeIndex(start=1152524, stop=1155807, step=1), 515.3617459684749), (1, RangeIndex(start=1155807, stop=1159090, step=1), 1781.4561869461656), (1, RangeIndex(start=1168939, stop=1172222, step=1), 734.3726968080899), (1, RangeIndex(start=1172222, stop=1175505, step=1), 260.4648521946832), (1, RangeIndex(start=1175505, stop=1178788, step=1), 140.4602260569859), (1, RangeIndex(start=1188637, stop=1191920, step=1), 690.0801644621899), (1, RangeIndex(start=1191920, stop=1195203, step=1), 706.224240872115), (1, RangeIndex(start=1195203, stop=1198486, step=1), 568.4456900926355), (1, RangeIndex(start=1201769, stop=1205052, step=1), 754.8950946662776), (1, RangeIndex(start=1205052, stop=1208335, step=1), 600.641283781804), (1, RangeIndex(start=1208335, stop=1211618, step=1), 507.15182833405703), (1, RangeIndex(start=1211618, stop=1214901, step=1), 550.25641031113), (1, RangeIndex(start=1214901, stop=1218184, step=1), 622.1780354939216), (1, RangeIndex(start=1218184, stop=1221467, step=1), 626.8668084406222), (1, RangeIndex(start=1221467, stop=1224750, step=1), 505.6119179934839), (1, RangeIndex(start=1224750, stop=1228033, step=1), 638.4620905720316), (1, RangeIndex(start=1228033, stop=1231316, step=1), 566.6636830323605), (1, RangeIndex(start=1234599, stop=1237882, step=1), 523.826484416981), (1, RangeIndex(start=1237882, stop=1241165, step=1), 137.106309436624), (1, RangeIndex(start=1241165, stop=1244448, step=1), 206.2561333780605), (1, RangeIndex(start=1244448, stop=1247731, step=1), 789.0812615123482), (1, RangeIndex(start=1247731, stop=1251014, step=1), 627.990281063243), (1, RangeIndex(start=1251014, stop=1254297, step=1), 728.7858003039067), (1, RangeIndex(start=1254297, stop=1257580, step=1), 564.3603264344079), (1, RangeIndex(start=1260863, stop=1264146, step=1), 603.887372099547), (1, RangeIndex(start=1267429, stop=1270712, step=1), 799.316585895243), (1, RangeIndex(start=1270712, stop=1273995, step=1), 628.5280132207457), (1, RangeIndex(start=1273995, stop=1277278, step=1), 601.0130670084094), (1, RangeIndex(start=1277278, stop=1280561, step=1), 585.6771224978099), (1, RangeIndex(start=1280561, stop=1283844, step=1), 713.7015371907372), (1, RangeIndex(start=1283844, stop=1287127, step=1), 626.0402952720973), (1, RangeIndex(start=1287127, stop=1290410, step=1), 681.0491009035511), (1, RangeIndex(start=1290410, stop=1293693, step=1), 648.2562092647833), (1, RangeIndex(start=1293693, stop=1296976, step=1), 650.7927090433177), (1, RangeIndex(start=1296976, stop=1300259, step=1), 536.4687534828857), (1, RangeIndex(start=1300259, stop=1303542, step=1), 587.0094270178821), (1, RangeIndex(start=1306825, stop=1310108, step=1), 153.6745263311209), (1, RangeIndex(start=1313391, stop=1316674, step=1), 602.1159310174514), (1, RangeIndex(start=1316674, stop=1319957, step=1), 677.0489338998863), (1, RangeIndex(start=1319957, stop=1323240, step=1), 643.943956795219), (1, RangeIndex(start=1323240, stop=1326523, step=1), 610.4263675892702), (1, RangeIndex(start=1326523, stop=1329806, step=1), 541.6838993940803), (1, RangeIndex(start=1329806, stop=1333089, step=1), 870.7994857506516), (1, RangeIndex(start=1333089, stop=1336372, step=1), 485.06037477628496), (1, RangeIndex(start=1336372, stop=1339655, step=1), 746.7513870870064), (1, RangeIndex(start=1339655, stop=1342938, step=1), 541.3162436436678), (1, RangeIndex(start=1346221, stop=1349504, step=1), 492.0228556169919), (1, RangeIndex(start=1349504, stop=1352787, step=1), 576.0419774127926), (1, RangeIndex(start=1352787, stop=1356070, step=1), 513.1278035571769), (1, RangeIndex(start=1356070, stop=1359353, step=1), 504.8062545145165), (1, RangeIndex(start=1359353, stop=1362636, step=1), 640.9258299569519), (1, RangeIndex(start=1372485, stop=1375768, step=1), 743.2314264808263), (1, RangeIndex(start=1382334, stop=1385617, step=1), 858.6316355069861), (1, RangeIndex(start=1395466, stop=1398749, step=1), 748.1487712151636), (1, RangeIndex(start=1398749, stop=1402032, step=1), 806.9143962831482), (1, RangeIndex(start=1405315, stop=1408598, step=1), 545.2828793328911), (1, RangeIndex(start=1411881, stop=1415164, step=1), 508.65298161561003), (1, RangeIndex(start=1415164, stop=1418447, step=1), 791.4904190581755), (1, RangeIndex(start=1418447, stop=1421730, step=1), 588.5076950625414), (1, RangeIndex(start=1421730, stop=1425013, step=1), 698.9065966455374), (1, RangeIndex(start=1425013, stop=1428296, step=1), 3025.87089547335), (1, RangeIndex(start=1434862, stop=1438145, step=1), 821.0165517757556), (1, RangeIndex(start=1438145, stop=1441428, step=1), 337.49011105412967), (1, RangeIndex(start=1441428, stop=1444711, step=1), 139.35670798383424), (1, RangeIndex(start=1447994, stop=1451277, step=1), 763.2916953913647), (1, RangeIndex(start=1451277, stop=1454560, step=1), 145.82996752280886), (1, RangeIndex(start=1454560, stop=1457843, step=1), 731.9159606611702), (1, RangeIndex(start=1461126, stop=1464409, step=1), 591.5556597940579), (1, RangeIndex(start=1467692, stop=1470975, step=1), 579.1346715999392), (1, RangeIndex(start=1470975, stop=1474258, step=1), 696.9849382613621), (1, RangeIndex(start=1474258, stop=1477541, step=1), 622.6696122128438), (1, RangeIndex(start=1477541, stop=1480824, step=1), 703.2594499545686), (1, RangeIndex(start=1480824, stop=1484107, step=1), 541.8583987751043), (1, RangeIndex(start=1484107, stop=1487390, step=1), 568.3365611610109), (1, RangeIndex(start=1487390, stop=1490673, step=1), 555.4777158369185), (1, RangeIndex(start=1493956, stop=1497239, step=1), 689.5522987824493), (1, RangeIndex(start=1500522, stop=1503805, step=1), 590.5360572167722), (1, RangeIndex(start=1503805, stop=1507088, step=1), 642.8317550279958), (1, RangeIndex(start=1507088, stop=1510371, step=1), 136.2573177121823), (1, RangeIndex(start=1510371, stop=1513654, step=1), 133.2832059067162), (1, RangeIndex(start=1513654, stop=1516937, step=1), 710.2312709417657), (1, RangeIndex(start=1516937, stop=1520220, step=1), 766.1967575555318), (1, RangeIndex(start=1520220, stop=1523503, step=1), 597.2260111803153), (1, RangeIndex(start=1523503, stop=1526786, step=1), 666.3047634633209), (1, RangeIndex(start=1526786, stop=1530069, step=1), 663.6554550966165), (1, RangeIndex(start=1530069, stop=1533352, step=1), 786.7070129353475), (1, RangeIndex(start=1533352, stop=1536635, step=1), 830.6355322559191), (1, RangeIndex(start=1539918, stop=1543201, step=1), 614.1854195448366), (1, RangeIndex(start=1543201, stop=1546484, step=1), 606.5514848340476), (1, RangeIndex(start=1546484, stop=1549767, step=1), 573.6318851479148), (1, RangeIndex(start=1549767, stop=1553050, step=1), 673.633744310034), (1, RangeIndex(start=1553050, stop=1556333, step=1), 618.3206628471967), (1, RangeIndex(start=1556333, stop=1559616, step=1), 570.0657785771884), (1, RangeIndex(start=1559616, stop=1562899, step=1), 608.480227326386), (1, RangeIndex(start=1566182, stop=1569465, step=1), 737.4401243526979), (1, RangeIndex(start=1569465, stop=1572748, step=1), 801.6632757247264), (1, RangeIndex(start=1576031, stop=1579314, step=1), 801.3012527256072), (1, RangeIndex(start=1579314, stop=1582597, step=1), 137.90802924604037), (1, RangeIndex(start=1582597, stop=1585880, step=1), 162.63709927817962), (1, RangeIndex(start=1585880, stop=1589163, step=1), 704.624463083569), (1, RangeIndex(start=1589163, stop=1592446, step=1), 635.1223807329687), (1, RangeIndex(start=1592446, stop=1595729, step=1), 566.919085207535), (1, RangeIndex(start=1595729, stop=1599012, step=1), 600.1617718322218), (1, RangeIndex(start=1599012, stop=1602295, step=1), 568.5637481535249), (1, RangeIndex(start=1602295, stop=1605578, step=1), 958.3916652590538), (1, RangeIndex(start=1605578, stop=1608861, step=1), 650.1678771613152), (1, RangeIndex(start=1615427, stop=1618710, step=1), 870.3678953068126), (1, RangeIndex(start=1618710, stop=1621993, step=1), 899.8740472147636), (1, RangeIndex(start=1625276, stop=1628559, step=1), 1035.4733115071547), (1, RangeIndex(start=1631842, stop=1635125, step=1), 529.5657699869058), (1, RangeIndex(start=1635125, stop=1638408, step=1), 598.3705096728477), (2, RangeIndex(start=0, stop=3196, step=1), 600.3061807569522), (2, RangeIndex(start=25568, stop=28764, step=1), 780.6330040185813), (2, RangeIndex(start=67116, stop=70312, step=1), 623.8288760449024), (2, RangeIndex(start=70312, stop=73508, step=1), 2908.258893144731), (2, RangeIndex(start=76704, stop=79900, step=1), 244.10933318499985), (2, RangeIndex(start=83096, stop=86292, step=1), 701.0389810332738), (2, RangeIndex(start=86292, stop=89488, step=1), 154.27122217999465), (2, RangeIndex(start=89488, stop=92684, step=1), 124.41381495914186), (2, RangeIndex(start=99076, stop=102272, step=1), 269.7162443745345), (2, RangeIndex(start=102272, stop=105468, step=1), 610.0496808816185), (2, RangeIndex(start=108664, stop=111860, step=1), 566.7339201448059), (2, RangeIndex(start=115056, stop=118252, step=1), 541.9442465658478), (2, RangeIndex(start=118252, stop=121448, step=1), 512.1902170730939), (2, RangeIndex(start=121448, stop=124644, step=1), 538.500587934961), (2, RangeIndex(start=127840, stop=131036, step=1), 577.7174733464371), (2, RangeIndex(start=131036, stop=134232, step=1), 441.66294732434864), (2, RangeIndex(start=134232, stop=137428, step=1), 514.2645227639757), (2, RangeIndex(start=147016, stop=150212, step=1), 148.57285728549897), (2, RangeIndex(start=150212, stop=153408, step=1), 230.9293212162562), (2, RangeIndex(start=178976, stop=182172, step=1), 466.52924336473035), (2, RangeIndex(start=182172, stop=185368, step=1), 508.1921894651145), (2, RangeIndex(start=188564, stop=191760, step=1), 524.5560984102127), (2, RangeIndex(start=191760, stop=194956, step=1), 472.81705708969025), (2, RangeIndex(start=210936, stop=214132, step=1), 140.9053500430458), (2, RangeIndex(start=220524, stop=223720, step=1), 497.5062751341058), (2, RangeIndex(start=223720, stop=226916, step=1), 558.5245688556616), (2, RangeIndex(start=226916, stop=230112, step=1), 560.1891795444975), (2, RangeIndex(start=230112, stop=233308, step=1), 844.6303860699404), (2, RangeIndex(start=233308, stop=236504, step=1), 489.6446479077626), (2, RangeIndex(start=313208, stop=316404, step=1), 494.6040776625559), (2, RangeIndex(start=322796, stop=325992, step=1), 266.111322854354), (2, RangeIndex(start=332384, stop=335580, step=1), 226.69522133327092), (2, RangeIndex(start=335580, stop=338776, step=1), 146.58467665745036), (2, RangeIndex(start=341972, stop=345168, step=1), 141.06110894437347), (2, RangeIndex(start=351560, stop=354756, step=1), 670.4864405938652), (2, RangeIndex(start=357952, stop=361148, step=1), 537.7764780011245), (2, RangeIndex(start=361148, stop=364344, step=1), 559.6343551996424), (2, RangeIndex(start=364344, stop=367540, step=1), 534.1613566539072), (2, RangeIndex(start=370736, stop=373932, step=1), 581.2173562522853), (2, RangeIndex(start=373932, stop=377128, step=1), 550.8641886697823), (2, RangeIndex(start=380324, stop=383520, step=1), 553.4013015629604), (2, RangeIndex(start=383520, stop=386716, step=1), 562.0726633883241), (2, RangeIndex(start=393108, stop=396304, step=1), 116.88935427582055), (2, RangeIndex(start=396304, stop=399500, step=1), 419.54159153477514), (2, RangeIndex(start=409088, stop=412284, step=1), 589.6631866419165), (2, RangeIndex(start=418676, stop=421872, step=1), 536.28751639062), (2, RangeIndex(start=425068, stop=428264, step=1), 475.4744485136473), (2, RangeIndex(start=431460, stop=434656, step=1), 541.3663461496672), (2, RangeIndex(start=434656, stop=437852, step=1), 526.1399954695422), (2, RangeIndex(start=437852, stop=441048, step=1), 572.7208401694261), (2, RangeIndex(start=444244, stop=447440, step=1), 570.4017499880265), (2, RangeIndex(start=457028, stop=460224, step=1), 126.68995255574747), (2, RangeIndex(start=463420, stop=466616, step=1), 515.4926584686058), (2, RangeIndex(start=466616, stop=469812, step=1), 548.31093829579), (2, RangeIndex(start=469812, stop=473008, step=1), 500.6485466907822), (2, RangeIndex(start=473008, stop=476204, step=1), 458.61324618627395), (2, RangeIndex(start=476204, stop=479400, step=1), 808.0985385819846), (2, RangeIndex(start=479400, stop=482596, step=1), 464.93604315853736), (2, RangeIndex(start=556104, stop=559300, step=1), 702.3455170361719), (2, RangeIndex(start=559300, stop=562496, step=1), 573.2281074152722), (2, RangeIndex(start=578476, stop=581672, step=1), 207.7684666016194), (2, RangeIndex(start=581672, stop=584868, step=1), 293.06655867516486), (2, RangeIndex(start=588064, stop=591260, step=1), 147.3320684275476), (2, RangeIndex(start=597652, stop=600848, step=1), 499.73930069774184), (2, RangeIndex(start=600848, stop=604044, step=1), 265.632734096995), (2, RangeIndex(start=604044, stop=607240, step=1), 565.4055188128544), (2, RangeIndex(start=607240, stop=610436, step=1), 558.7632884378727), (2, RangeIndex(start=613632, stop=616828, step=1), 584.2142672613699), (2, RangeIndex(start=616828, stop=620024, step=1), 569.4926546409639), (2, RangeIndex(start=620024, stop=623220, step=1), 579.7618329952062), (2, RangeIndex(start=636004, stop=639200, step=1), 161.8624644754381), (2, RangeIndex(start=639200, stop=642396, step=1), 135.42991425576773), (2, RangeIndex(start=651984, stop=655180, step=1), 620.7626813095277), (2, RangeIndex(start=664768, stop=667964, step=1), 588.4085778755328), (2, RangeIndex(start=667964, stop=671160, step=1), 493.74032791231156), (2, RangeIndex(start=671160, stop=674356, step=1), 541.2909873232884), (2, RangeIndex(start=674356, stop=677552, step=1), 583.8117328059074), (2, RangeIndex(start=677552, stop=680748, step=1), 610.5875405498639), (2, RangeIndex(start=683944, stop=687140, step=1), 602.4746042640544), (2, RangeIndex(start=696728, stop=699924, step=1), 551.3432242424756), (2, RangeIndex(start=699924, stop=703120, step=1), 170.91785126961423), (2, RangeIndex(start=703120, stop=706316, step=1), 146.5468467874848), (2, RangeIndex(start=709512, stop=712708, step=1), 657.379083619757), (2, RangeIndex(start=712708, stop=715904, step=1), 623.7352495201548), (2, RangeIndex(start=715904, stop=719100, step=1), 551.5070174992622), (2, RangeIndex(start=719100, stop=722296, step=1), 563.3180608541901), (2, RangeIndex(start=722296, stop=725492, step=1), 859.030499423847), (2, RangeIndex(start=725492, stop=728688, step=1), 553.0327171221999), (2, RangeIndex(start=802196, stop=805392, step=1), 791.148734103578), (2, RangeIndex(start=805392, stop=808588, step=1), 543.757226808565), (2, RangeIndex(start=811784, stop=814980, step=1), 210.00697561844098), (2, RangeIndex(start=824568, stop=827764, step=1), 155.0466311775869), (2, RangeIndex(start=830960, stop=834156, step=1), 656.5203394385713), (2, RangeIndex(start=834156, stop=837352, step=1), 95.36657041259087), (2, RangeIndex(start=843744, stop=846940, step=1), 706.1834662883218), (2, RangeIndex(start=850136, stop=853332, step=1), 670.1633951392955), (2, RangeIndex(start=853332, stop=856528, step=1), 571.6049385050877), (2, RangeIndex(start=859724, stop=862920, step=1), 607.7579091123023), (2, RangeIndex(start=862920, stop=866116, step=1), 636.1967482700992), (2, RangeIndex(start=878900, stop=882096, step=1), 603.458473164309), (2, RangeIndex(start=882096, stop=885292, step=1), 160.48742327873782), (2, RangeIndex(start=885292, stop=888488, step=1), 137.91142105778007), (2, RangeIndex(start=891684, stop=894880, step=1), 791.542199122072), (2, RangeIndex(start=898076, stop=901272, step=1), 564.910431791888), (2, RangeIndex(start=904468, stop=907664, step=1), 725.9336326773679), (2, RangeIndex(start=910860, stop=914056, step=1), 533.9321619780608), (2, RangeIndex(start=914056, stop=917252, step=1), 568.094526738303), (2, RangeIndex(start=920448, stop=923644, step=1), 585.3118430725193), (2, RangeIndex(start=923644, stop=926840, step=1), 604.5852186061184), (2, RangeIndex(start=942820, stop=946016, step=1), 620.6696731360862), (2, RangeIndex(start=946016, stop=949212, step=1), 160.12075367634444), (2, RangeIndex(start=949212, stop=952408, step=1), 168.40450499837715), (2, RangeIndex(start=958800, stop=961996, step=1), 592.676441837841), (2, RangeIndex(start=965192, stop=968388, step=1), 502.18264546805824), (2, RangeIndex(start=968388, stop=971584, step=1), 857.8566002494781), (2, RangeIndex(start=971584, stop=974780, step=1), 507.8077649056456), (2, RangeIndex(start=1048288, stop=1051484, step=1), 978.6419951824187), (2, RangeIndex(start=1051484, stop=1054680, step=1), 557.3717289904478), (2, RangeIndex(start=1061072, stop=1064268, step=1), 285.08484466474505), (2, RangeIndex(start=1070660, stop=1073856, step=1), 206.86820677415787), (2, RangeIndex(start=1073856, stop=1077052, step=1), 152.7313450812031), (2, RangeIndex(start=1077052, stop=1080248, step=1), 706.2492289362677), (2, RangeIndex(start=1080248, stop=1083444, step=1), 136.17597041115602), (2, RangeIndex(start=1089836, stop=1093032, step=1), 736.3810104680139), (2, RangeIndex(start=1093032, stop=1096228, step=1), 228.36052739319499), (2, RangeIndex(start=1099424, stop=1102620, step=1), 531.5028021242124), (2, RangeIndex(start=1105816, stop=1109012, step=1), 552.4558539158922), (2, RangeIndex(start=1109012, stop=1112208, step=1), 570.4474615844703), (2, RangeIndex(start=1112208, stop=1115404, step=1), 658.4570833814969), (2, RangeIndex(start=1128188, stop=1131384, step=1), 158.1784607196088), (2, RangeIndex(start=1131384, stop=1134580, step=1), 128.89496968393468), (2, RangeIndex(start=1137776, stop=1140972, step=1), 785.0600009253193), (2, RangeIndex(start=1153756, stop=1156952, step=1), 475.4771737618791), (2, RangeIndex(start=1156952, stop=1160148, step=1), 687.745718811783), (2, RangeIndex(start=1163344, stop=1166540, step=1), 526.6818237134307), (2, RangeIndex(start=1166540, stop=1169736, step=1), 653.9813795193279), (2, RangeIndex(start=1169736, stop=1172932, step=1), 674.9244731595395), (2, RangeIndex(start=1172932, stop=1176128, step=1), 629.8079441901062), (2, RangeIndex(start=1176128, stop=1179324, step=1), 574.880520007622), (2, RangeIndex(start=1182520, stop=1185716, step=1), 551.0385908691549), (2, RangeIndex(start=1195304, stop=1198500, step=1), 131.18015121074384), (2, RangeIndex(start=1201696, stop=1204892, step=1), 607.4380147029082), (2, RangeIndex(start=1204892, stop=1208088, step=1), 659.5149267500891), (2, RangeIndex(start=1208088, stop=1211284, step=1), 575.5429629558778), (2, RangeIndex(start=1211284, stop=1214480, step=1), 486.41598218348963), (2, RangeIndex(start=1214480, stop=1217676, step=1), 955.2824962020561), (2, RangeIndex(start=1217676, stop=1220872, step=1), 493.709678561995), (2, RangeIndex(start=1233656, stop=1236852, step=1), 582.1322097334836), (2, RangeIndex(start=1297576, stop=1300772, step=1), 664.7572620016227), (2, RangeIndex(start=1300772, stop=1303968, step=1), 3564.5453719345883), (2, RangeIndex(start=1303968, stop=1307164, step=1), 244.2843744301886), (2, RangeIndex(start=1316752, stop=1319948, step=1), 411.0227903119818), (2, RangeIndex(start=1319948, stop=1323144, step=1), 128.9529594351093), (2, RangeIndex(start=1323144, stop=1326340, step=1), 768.2100967770516), (2, RangeIndex(start=1326340, stop=1329536, step=1), 123.81409592329867), (2, RangeIndex(start=1335928, stop=1339124, step=1), 720.6602888547319), (2, RangeIndex(start=1342320, stop=1345516, step=1), 770.7623953029957), (2, RangeIndex(start=1345516, stop=1348712, step=1), 519.1139366531941), (2, RangeIndex(start=1348712, stop=1351908, step=1), 567.84470921829), (2, RangeIndex(start=1351908, stop=1355104, step=1), 629.7969428779376), (2, RangeIndex(start=1355104, stop=1358300, step=1), 567.5412335539214), (2, RangeIndex(start=1358300, stop=1361496, step=1), 662.5581280176538), (2, RangeIndex(start=1364692, stop=1367888, step=1), 826.5569341657068), (2, RangeIndex(start=1367888, stop=1371084, step=1), 446.80067424943246), (2, RangeIndex(start=1374280, stop=1377476, step=1), 186.88781316100494), (2, RangeIndex(start=1377476, stop=1380672, step=1), 165.86170976734095), (2, RangeIndex(start=1383868, stop=1387064, step=1), 693.0810730357902), (2, RangeIndex(start=1399848, stop=1403044, step=1), 581.5540204902089), (2, RangeIndex(start=1409436, stop=1412632, step=1), 609.9821351644631), (2, RangeIndex(start=1412632, stop=1415828, step=1), 533.3575399115678), (2, RangeIndex(start=1425416, stop=1428612, step=1), 520.7282552193542), (2, RangeIndex(start=1428612, stop=1431808, step=1), 732.5655134522368), (2, RangeIndex(start=1441396, stop=1444592, step=1), 123.65954161615394), (2, RangeIndex(start=1444592, stop=1447788, step=1), 161.7507444191281), (2, RangeIndex(start=1447788, stop=1450984, step=1), 842.2363955586666), (2, RangeIndex(start=1454180, stop=1457376, step=1), 570.3233581970321), (2, RangeIndex(start=1460572, stop=1463768, step=1), 670.3127083056108), (2, RangeIndex(start=1463768, stop=1466964, step=1), 781.5817010841779), (2, RangeIndex(start=1466964, stop=1470160, step=1), 651.6531263770798), (2, RangeIndex(start=1518090, stop=1521285, step=1), 837.7156957317095), (2, RangeIndex(start=1540455, stop=1543650, step=1), 652.8830186662528), (2, RangeIndex(start=1543650, stop=1546845, step=1), 613.6564596129048), (2, RangeIndex(start=1553235, stop=1556430, step=1), 241.07903719370722), (2, RangeIndex(start=1559625, stop=1562820, step=1), 833.2045852368268), (2, RangeIndex(start=1562820, stop=1566015, step=1), 224.81604111796955), (2, RangeIndex(start=1566015, stop=1569210, step=1), 139.68007476323774), (2, RangeIndex(start=1569210, stop=1572405, step=1), 796.7684058610246), (2, RangeIndex(start=1572405, stop=1575600, step=1), 197.509929989704), (2, RangeIndex(start=1578795, stop=1581990, step=1), 845.8276535839977), (2, RangeIndex(start=1585185, stop=1588380, step=1), 619.9838697631086), (2, RangeIndex(start=1591575, stop=1594770, step=1), 686.9359197605395), (2, RangeIndex(start=1594770, stop=1597965, step=1), 598.0294514672175), (3, RangeIndex(start=0, stop=2809, step=1), 354.31538097943775), (3, RangeIndex(start=25281, stop=28090, step=1), 345.21072524052653), (3, RangeIndex(start=39326, stop=42135, step=1), 339.9968211353426), (3, RangeIndex(start=50562, stop=53371, step=1), 365.02854897643965), (3, RangeIndex(start=58989, stop=61798, step=1), 362.4088817875013), (3, RangeIndex(start=137641, stop=140450, step=1), 415.00586621289546), (3, RangeIndex(start=193821, stop=196630, step=1), 371.5667882732019), (3, RangeIndex(start=264046, stop=266855, step=1), 422.1755496520769), (3, RangeIndex(start=289327, stop=292136, step=1), 410.8837806543416), (3, RangeIndex(start=308990, stop=311799, step=1), 431.2880830523123), (3, RangeIndex(start=353934, stop=356743, step=1), 420.9176640265623), (3, RangeIndex(start=362361, stop=365170, step=1), 434.78014055486875), (3, RangeIndex(start=367979, stop=370788, step=1), 551.3705082899735), (3, RangeIndex(start=370788, stop=373597, step=1), 449.12004480380506), (3, RangeIndex(start=382024, stop=384833, step=1), 385.8808840279832), (3, RangeIndex(start=384833, stop=387642, step=1), 466.29140327115823), (3, RangeIndex(start=387642, stop=390451, step=1), 422.07600331689923), (3, RangeIndex(start=390451, stop=393260, step=1), 460.577939791856), (3, RangeIndex(start=396069, stop=398878, step=1), 450.12327324629143), (3, RangeIndex(start=398878, stop=401687, step=1), 446.9632536432268), (3, RangeIndex(start=401687, stop=404496, step=1), 452.36976317521714), (3, RangeIndex(start=407305, stop=410114, step=1), 477.1242494368931), (3, RangeIndex(start=410114, stop=412923, step=1), 438.5912352937681), (3, RangeIndex(start=412923, stop=415732, step=1), 465.4734915188647), (3, RangeIndex(start=415732, stop=418541, step=1), 444.68386056843366), (3, RangeIndex(start=421350, stop=424159, step=1), 494.97121373738065), (3, RangeIndex(start=426968, stop=429777, step=1), 460.8795301459767), (3, RangeIndex(start=435395, stop=438204, step=1), 484.49753797566234), (3, RangeIndex(start=438204, stop=441013, step=1), 478.03560671155725), (3, RangeIndex(start=443822, stop=446631, step=1), 491.0959623085089), (3, RangeIndex(start=446631, stop=449440, step=1), 458.5470882216663), (3, RangeIndex(start=449440, stop=452249, step=1), 485.592211900552), (3, RangeIndex(start=455058, stop=457867, step=1), 424.5204047231683), (3, RangeIndex(start=457867, stop=460676, step=1), 466.11924576147504), (3, RangeIndex(start=460676, stop=463485, step=1), 454.6530801614159), (3, RangeIndex(start=463485, stop=466294, step=1), 477.5174965224945), (3, RangeIndex(start=471912, stop=474721, step=1), 433.809362723116), (3, RangeIndex(start=480339, stop=483148, step=1), 439.8549798249163), (3, RangeIndex(start=508429, stop=511238, step=1), 370.87900933596296), (3, RangeIndex(start=516856, stop=519665, step=1), 514.2741885380862), (3, RangeIndex(start=519665, stop=522474, step=1), 435.3307366913869), (3, RangeIndex(start=522474, stop=525283, step=1), 455.0900013624471), (3, RangeIndex(start=525283, stop=528092, step=1), 475.95795566259875), (3, RangeIndex(start=539328, stop=542137, step=1), 447.4590309399046), (3, RangeIndex(start=542137, stop=544946, step=1), 481.29496879376063), (3, RangeIndex(start=544946, stop=547755, step=1), 453.6729076151524), (3, RangeIndex(start=550564, stop=553373, step=1), 485.3974491016708), (3, RangeIndex(start=561800, stop=564609, step=1), 515.2082930271387), (3, RangeIndex(start=575845, stop=578654, step=1), 477.9107262465377), (3, RangeIndex(start=578654, stop=581463, step=1), 451.5255846738676), (3, RangeIndex(start=584272, stop=587081, step=1), 497.4360259710093), (3, RangeIndex(start=589890, stop=592699, step=1), 508.9229966989863), (3, RangeIndex(start=598317, stop=601126, step=1), 513.5216756322977), (3, RangeIndex(start=603935, stop=606744, step=1), 434.39572891176283), (3, RangeIndex(start=617980, stop=620789, step=1), 496.0907725649085), (3, RangeIndex(start=623598, stop=626407, step=1), 517.0955346123941), (3, RangeIndex(start=629216, stop=632025, step=1), 485.86148271632305), (3, RangeIndex(start=637643, stop=640452, step=1), 519.8702762538574), (3, RangeIndex(start=643261, stop=646070, step=1), 493.53436515280254), (3, RangeIndex(start=648879, stop=651688, step=1), 460.2761904620965), (3, RangeIndex(start=657306, stop=660115, step=1), 459.6122800399731), (3, RangeIndex(start=662924, stop=665733, step=1), 578.2782431088439), (3, RangeIndex(start=676969, stop=679778, step=1), 502.8730086152749), (3, RangeIndex(start=682587, stop=685396, step=1), 548.4462654216669), (3, RangeIndex(start=699441, stop=702250, step=1), 535.1995642408433), (3, RangeIndex(start=702250, stop=705059, step=1), 520.2447793055068), (3, RangeIndex(start=719104, stop=721913, step=1), 526.6513213659044), (3, RangeIndex(start=721913, stop=724722, step=1), 595.7763752009088), (3, RangeIndex(start=741576, stop=744385, step=1), 525.277899681316), (3, RangeIndex(start=758430, stop=761239, step=1), 544.5583651958389), (3, RangeIndex(start=761239, stop=764048, step=1), 539.3586691652332), (3, RangeIndex(start=769666, stop=772475, step=1), 653.3966296335619), (3, RangeIndex(start=780902, stop=783711, step=1), 510.1117266509225), (3, RangeIndex(start=797756, stop=800565, step=1), 503.7331858102167), (3, RangeIndex(start=806183, stop=808992, step=1), 495.6322578746566), (3, RangeIndex(start=814610, stop=817419, step=1), 557.0199375756756), (3, RangeIndex(start=817419, stop=820228, step=1), 570.7484551427108), (3, RangeIndex(start=828655, stop=831464, step=1), 530.7958851923795), (3, RangeIndex(start=834273, stop=837082, step=1), 595.0837145058115), (3, RangeIndex(start=837082, stop=839891, step=1), 516.4227620691447), (3, RangeIndex(start=842700, stop=845509, step=1), 578.8219682092887), (3, RangeIndex(start=853935, stop=856743, step=1), 593.8356251046813), (3, RangeIndex(start=856743, stop=859551, step=1), 542.223734413068), (3, RangeIndex(start=873591, stop=876399, step=1), 539.4276377436784), (3, RangeIndex(start=876399, stop=879207, step=1), 682.5182370149206), (3, RangeIndex(start=879207, stop=882015, step=1), 531.5127059357444), (3, RangeIndex(start=882015, stop=884823, step=1), 592.2764843361748), (3, RangeIndex(start=884823, stop=887631, step=1), 504.6346106485196), (3, RangeIndex(start=887631, stop=890439, step=1), 616.5964084114645), (3, RangeIndex(start=890439, stop=893247, step=1), 625.6446803270136), (3, RangeIndex(start=896055, stop=898863, step=1), 609.5721503854178), (3, RangeIndex(start=898863, stop=901671, step=1), 577.7350315947924), (3, RangeIndex(start=901671, stop=904479, step=1), 624.4256597423142), (3, RangeIndex(start=904479, stop=907287, step=1), 579.8997182452944), (3, RangeIndex(start=910095, stop=912903, step=1), 593.0837483395879), (3, RangeIndex(start=912903, stop=915711, step=1), 664.7892332494358), (3, RangeIndex(start=918519, stop=921327, step=1), 593.6272515307174), (3, RangeIndex(start=921327, stop=924135, step=1), 610.028291086223), (3, RangeIndex(start=924135, stop=926943, step=1), 552.2660469999215), (3, RangeIndex(start=926943, stop=929751, step=1), 531.3036045948766), (3, RangeIndex(start=929751, stop=932559, step=1), 587.3323811318218), (3, RangeIndex(start=932559, stop=935367, step=1), 577.82159125259), (3, RangeIndex(start=938175, stop=940983, step=1), 570.0580552754183), (3, RangeIndex(start=940983, stop=943791, step=1), 524.2734500047866), (3, RangeIndex(start=949407, stop=952215, step=1), 616.3939364888695), (3, RangeIndex(start=952215, stop=955023, step=1), 583.1819071401396), (3, RangeIndex(start=963447, stop=966255, step=1), 696.3397661312018), (3, RangeIndex(start=966255, stop=969063, step=1), 527.9477508142513), (3, RangeIndex(start=974679, stop=977487, step=1), 754.9674230369739), (3, RangeIndex(start=988719, stop=991527, step=1), 713.9243145311933), (3, RangeIndex(start=994335, stop=997143, step=1), 574.2214091267499), (3, RangeIndex(start=1011183, stop=1013991, step=1), 602.0739253367794), (3, RangeIndex(start=1013991, stop=1016799, step=1), 774.5038381017835), (3, RangeIndex(start=1022415, stop=1025223, step=1), 650.1682661713995), (3, RangeIndex(start=1028031, stop=1030839, step=1), 686.4840113702915), (3, RangeIndex(start=1030839, stop=1033647, step=1), 570.9657194560824), (3, RangeIndex(start=1036455, stop=1039263, step=1), 646.5679796152847), (3, RangeIndex(start=1044879, stop=1047687, step=1), 549.3418300948139), (3, RangeIndex(start=1047687, stop=1050495, step=1), 593.9192520184001), (3, RangeIndex(start=1061727, stop=1064535, step=1), 537.4673435914144), (3, RangeIndex(start=1070151, stop=1072959, step=1), 704.7192999912536), (3, RangeIndex(start=1072959, stop=1075767, step=1), 584.123677448857), (3, RangeIndex(start=1078575, stop=1081383, step=1), 718.8167314736162), (3, RangeIndex(start=1081383, stop=1084191, step=1), 631.9330709729134), (3, RangeIndex(start=1089807, stop=1092615, step=1), 668.3211765931883), (3, RangeIndex(start=1092615, stop=1095423, step=1), 582.4045738528762), (3, RangeIndex(start=1095423, stop=1098231, step=1), 606.4492539491229), (3, RangeIndex(start=1109463, stop=1112271, step=1), 602.9634072209826), (3, RangeIndex(start=1117887, stop=1120695, step=1), 691.3278193742908), (3, RangeIndex(start=1123503, stop=1126311, step=1), 670.2399056041485), (3, RangeIndex(start=1129119, stop=1131927, step=1), 661.1572209456456), (3, RangeIndex(start=1140351, stop=1143159, step=1), 665.0024219798271), (3, RangeIndex(start=1143159, stop=1145967, step=1), 773.2127231086125), (3, RangeIndex(start=1145967, stop=1148775, step=1), 636.2292598188263), (3, RangeIndex(start=1148775, stop=1151583, step=1), 599.3710270637464), (3, RangeIndex(start=1162815, stop=1165623, step=1), 736.6920957689146), (3, RangeIndex(start=1171239, stop=1174047, step=1), 680.0080650310534), (3, RangeIndex(start=1176855, stop=1179663, step=1), 728.1765097538371), (3, RangeIndex(start=1179663, stop=1182471, step=1), 732.4756824573232), (3, RangeIndex(start=1182471, stop=1185279, step=1), 714.134260193301), (3, RangeIndex(start=1188087, stop=1190895, step=1), 671.8642768989077), (3, RangeIndex(start=1196511, stop=1199319, step=1), 624.5652507259098), (3, RangeIndex(start=1199319, stop=1202127, step=1), 587.5193579668982), (3, RangeIndex(start=1210551, stop=1213359, step=1), 737.9328449522765), (3, RangeIndex(start=1213359, stop=1216167, step=1), 648.6514346025295), (3, RangeIndex(start=1218975, stop=1221783, step=1), 652.2208776902906), (3, RangeIndex(start=1221783, stop=1224591, step=1), 640.9635303919312), (3, RangeIndex(start=1227399, stop=1230207, step=1), 662.033017177112), (3, RangeIndex(start=1230207, stop=1233015, step=1), 739.7710369327559), (3, RangeIndex(start=1235823, stop=1238631, step=1), 690.207762922155), (3, RangeIndex(start=1247055, stop=1249863, step=1), 749.5689751258838), (3, RangeIndex(start=1249863, stop=1252671, step=1), 785.651846725735), (3, RangeIndex(start=1263903, stop=1266711, step=1), 673.6033707038935), (3, RangeIndex(start=1269519, stop=1272327, step=1), 1028.1966718921751), (3, RangeIndex(start=1289175, stop=1291983, step=1), 735.9401167199238), (3, RangeIndex(start=1291983, stop=1294791, step=1), 603.9714659439244), (3, RangeIndex(start=1294791, stop=1297599, step=1), 759.8445127396095), (3, RangeIndex(start=1297599, stop=1300407, step=1), 739.3732460915569), (3, RangeIndex(start=1300407, stop=1303215, step=1), 679.2807179728635), (3, RangeIndex(start=1308831, stop=1311639, step=1), 727.1161971945568), (3, RangeIndex(start=1311639, stop=1314447, step=1), 754.2754959032953), (3, RangeIndex(start=1314447, stop=1317255, step=1), 703.1347654294914), (3, RangeIndex(start=1317255, stop=1320063, step=1), 695.022075978785), (3, RangeIndex(start=1320063, stop=1322871, step=1), 741.2621770687608), (3, RangeIndex(start=1322871, stop=1325679, step=1), 544.2110823395503), (3, RangeIndex(start=1328487, stop=1331295, step=1), 732.9617493669081), (3, RangeIndex(start=1331295, stop=1334103, step=1), 797.4803982303672), (3, RangeIndex(start=1334103, stop=1336911, step=1), 801.8978202996863), (3, RangeIndex(start=1339719, stop=1342527, step=1), 843.1186337904636), (3, RangeIndex(start=1342527, stop=1345335, step=1), 896.372926824006), (3, RangeIndex(start=1345335, stop=1348143, step=1), 667.4891607231366), (3, RangeIndex(start=1350951, stop=1353759, step=1), 784.9017905653322), (3, RangeIndex(start=1353759, stop=1356567, step=1), 769.6777946910821), (3, RangeIndex(start=1362183, stop=1364991, step=1), 838.5710276444402), (3, RangeIndex(start=1364991, stop=1367799, step=1), 696.3385982204563), (3, RangeIndex(start=1367799, stop=1370607, step=1), 746.1598448622618), (3, RangeIndex(start=1373415, stop=1376223, step=1), 733.4084285301533), (3, RangeIndex(start=1376223, stop=1379031, step=1), 623.7789641434455), (3, RangeIndex(start=1384647, stop=1387455, step=1), 817.6392643736995), (3, RangeIndex(start=1393071, stop=1395879, step=1), 801.4066442418269), (3, RangeIndex(start=1395879, stop=1398687, step=1), 734.3530806581675), (3, RangeIndex(start=1398687, stop=1401495, step=1), 857.3891533424883), (4, RangeIndex(start=0, stop=2799, step=1), 314.7011772666545), (4, RangeIndex(start=50382, stop=53181, step=1), 338.55761295001935), (4, RangeIndex(start=58779, stop=61578, step=1), 450.46973212368243), (4, RangeIndex(start=61578, stop=64377, step=1), 400.2682636143721), (4, RangeIndex(start=72774, stop=75573, step=1), 344.18746557414045), (4, RangeIndex(start=75573, stop=78372, step=1), 378.44234579859085), (4, RangeIndex(start=78372, stop=81171, step=1), 349.6667179309309), (4, RangeIndex(start=83970, stop=86769, step=1), 351.1649045409946), (4, RangeIndex(start=86769, stop=89568, step=1), 368.1291855873014), (4, RangeIndex(start=89568, stop=92367, step=1), 357.564203537325), (4, RangeIndex(start=97965, stop=100764, step=1), 352.28304348149754), (4, RangeIndex(start=100764, stop=103563, step=1), 351.31228970170235), (4, RangeIndex(start=106362, stop=109161, step=1), 395.9589042859654), (4, RangeIndex(start=109161, stop=111960, step=1), 369.11187571563005), (4, RangeIndex(start=111960, stop=114759, step=1), 380.73431907629305), (4, RangeIndex(start=114759, stop=117558, step=1), 398.1641779918783), (4, RangeIndex(start=117558, stop=120357, step=1), 383.70637892799766), (4, RangeIndex(start=123156, stop=125955, step=1), 374.93482545993476), (4, RangeIndex(start=125955, stop=128754, step=1), 366.18077579630625), (4, RangeIndex(start=128754, stop=131553, step=1), 389.7596981133328), (4, RangeIndex(start=134352, stop=137151, step=1), 362.2732796776816), (4, RangeIndex(start=145548, stop=148347, step=1), 398.91084878082063), (4, RangeIndex(start=215523, stop=218322, step=1), 361.64458349261565), (4, RangeIndex(start=235116, stop=237915, step=1), 382.48711937048563), (4, RangeIndex(start=260307, stop=263106, step=1), 332.6919416747733), (4, RangeIndex(start=279900, stop=282699, step=1), 437.47578196642206), (4, RangeIndex(start=302292, stop=305091, step=1), 391.06293242999004), (4, RangeIndex(start=324684, stop=327483, step=1), 497.91227989864586), (4, RangeIndex(start=369468, stop=372267, step=1), 408.839806021052), (4, RangeIndex(start=391860, stop=394659, step=1), 485.7832107541147), (4, RangeIndex(start=414252, stop=417051, step=1), 428.4343117714277), (4, RangeIndex(start=431046, stop=433845, step=1), 416.6634781429851), (4, RangeIndex(start=433845, stop=436644, step=1), 450.5205578903747), (4, RangeIndex(start=453438, stop=456237, step=1), 421.0179048093192), (4, RangeIndex(start=456237, stop=459036, step=1), 472.14164888596673), (4, RangeIndex(start=459036, stop=461835, step=1), 427.1572591637429), (4, RangeIndex(start=478629, stop=481428, step=1), 494.1112733801416), (4, RangeIndex(start=492624, stop=495423, step=1), 466.20364376207556), (4, RangeIndex(start=498222, stop=501021, step=1), 478.812014755943), (4, RangeIndex(start=501021, stop=503820, step=1), 417.8870590092414), (4, RangeIndex(start=515016, stop=517815, step=1), 457.84454651003955), (4, RangeIndex(start=517815, stop=520614, step=1), 467.1132174651964), (4, RangeIndex(start=520614, stop=523413, step=1), 467.4861040510212), (4, RangeIndex(start=537408, stop=540207, step=1), 468.98890991192036), (4, RangeIndex(start=540207, stop=543006, step=1), 469.0151472094195), (4, RangeIndex(start=543006, stop=545805, step=1), 515.5458501246976), (4, RangeIndex(start=559800, stop=562599, step=1), 486.7502444256294), (4, RangeIndex(start=576594, stop=579393, step=1), 440.45137468639643), (4, RangeIndex(start=582192, stop=584991, step=1), 444.67967641211703), (4, RangeIndex(start=596187, stop=598986, step=1), 520.9141895889795), (4, RangeIndex(start=598986, stop=601785, step=1), 590.725744739035), (4, RangeIndex(start=601785, stop=604584, step=1), 552.4369773507641), (4, RangeIndex(start=615780, stop=618579, step=1), 507.37149725469305), (4, RangeIndex(start=618579, stop=621378, step=1), 399.3858313459106), (4, RangeIndex(start=621378, stop=624177, step=1), 490.67214212262496), (4, RangeIndex(start=626976, stop=629775, step=1), 439.00790307202305), (4, RangeIndex(start=629775, stop=632574, step=1), 479.7195607311472), (4, RangeIndex(start=632574, stop=635373, step=1), 489.52273044439715), (4, RangeIndex(start=635373, stop=638172, step=1), 502.6352627387042), (4, RangeIndex(start=640971, stop=643770, step=1), 469.51193035272337), (4, RangeIndex(start=643770, stop=646569, step=1), 563.4859423372205), (4, RangeIndex(start=646569, stop=649368, step=1), 487.28261641057117), (4, RangeIndex(start=660564, stop=663363, step=1), 495.4233468859716), (4, RangeIndex(start=666162, stop=668961, step=1), 514.9576326853496), (4, RangeIndex(start=671760, stop=674559, step=1), 553.2222482507456), (4, RangeIndex(start=677358, stop=680157, step=1), 535.0225624707884), (4, RangeIndex(start=682956, stop=685755, step=1), 501.05554361027424), (4, RangeIndex(start=685755, stop=688554, step=1), 506.7133005545888), (4, RangeIndex(start=688554, stop=691353, step=1), 531.0671014207361), (4, RangeIndex(start=691353, stop=694152, step=1), 579.4213827297194), (4, RangeIndex(start=694152, stop=696951, step=1), 496.1154782563991), (4, RangeIndex(start=708147, stop=710946, step=1), 460.64596179187896), (4, RangeIndex(start=710946, stop=713745, step=1), 504.6681599196124), (4, RangeIndex(start=713745, stop=716544, step=1), 517.64867843997), (4, RangeIndex(start=724941, stop=727740, step=1), 522.4978066208151), (4, RangeIndex(start=727740, stop=730539, step=1), 513.281562946537), (4, RangeIndex(start=733338, stop=736137, step=1), 486.4896235209411), (4, RangeIndex(start=747333, stop=750132, step=1), 513.0308596828985), (4, RangeIndex(start=750132, stop=752931, step=1), 505.5907487986666), (4, RangeIndex(start=752931, stop=755730, step=1), 603.4516578170079), (4, RangeIndex(start=761328, stop=764127, step=1), 468.8365510762605), (4, RangeIndex(start=769725, stop=772524, step=1), 571.2168365947119), (4, RangeIndex(start=783720, stop=786519, step=1), 608.0832431321555), (4, RangeIndex(start=789318, stop=792117, step=1), 578.2458721582478), (4, RangeIndex(start=797715, stop=800514, step=1), 617.7187422350946), (4, RangeIndex(start=808911, stop=811710, step=1), 552.3695912752846), (4, RangeIndex(start=825705, stop=828504, step=1), 622.80217008463), (4, RangeIndex(start=842499, stop=845298, step=1), 521.4456997078732), (4, RangeIndex(start=845298, stop=848097, step=1), 506.6358634736967), (4, RangeIndex(start=848097, stop=850896, step=1), 569.7570224014939), (4, RangeIndex(start=850896, stop=853695, step=1), 548.847189119373), (4, RangeIndex(start=856494, stop=859293, step=1), 579.9552438819894), (4, RangeIndex(start=859293, stop=862092, step=1), 551.5847709151777), (4, RangeIndex(start=862092, stop=864891, step=1), 597.4168860706203), (4, RangeIndex(start=864891, stop=867690, step=1), 505.92754715856904), (4, RangeIndex(start=870489, stop=873288, step=1), 539.511616852123), (4, RangeIndex(start=876087, stop=878886, step=1), 528.883413918746), (4, RangeIndex(start=878886, stop=881685, step=1), 587.9490687557438), (4, RangeIndex(start=881685, stop=884484, step=1), 555.4038095238969), (4, RangeIndex(start=890082, stop=892881, step=1), 602.1674508813263), (4, RangeIndex(start=901278, stop=904077, step=1), 609.7924076453102), (4, RangeIndex(start=904077, stop=906876, step=1), 587.895792422678), (4, RangeIndex(start=906876, stop=909675, step=1), 556.9255453505182), (4, RangeIndex(start=918072, stop=920871, step=1), 570.2781802626125), (4, RangeIndex(start=926469, stop=929268, step=1), 542.8050158098782), (4, RangeIndex(start=934866, stop=937665, step=1), 502.10216079045665), (4, RangeIndex(start=940464, stop=943263, step=1), 518.972969194088), (4, RangeIndex(start=943263, stop=946062, step=1), 518.7958078718851), (4, RangeIndex(start=954459, stop=957258, step=1), 638.3708988537846), (4, RangeIndex(start=960057, stop=962856, step=1), 602.4837713073263), (4, RangeIndex(start=962856, stop=965655, step=1), 551.7358869499163), (4, RangeIndex(start=968454, stop=971253, step=1), 573.0400241871959), (4, RangeIndex(start=971253, stop=974052, step=1), 600.8793023445514), (4, RangeIndex(start=974052, stop=976851, step=1), 511.5342358639661), (4, RangeIndex(start=979650, stop=982449, step=1), 613.2931335663516), (4, RangeIndex(start=982449, stop=985248, step=1), 622.780923731011), (4, RangeIndex(start=988047, stop=990846, step=1), 544.9696352569259), (4, RangeIndex(start=996444, stop=999243, step=1), 503.9678015840159), (4, RangeIndex(start=999243, stop=1002042, step=1), 629.6241812374878), (4, RangeIndex(start=1007640, stop=1010439, step=1), 636.2609921124285), (4, RangeIndex(start=1010439, stop=1013238, step=1), 677.3247501956625), (4, RangeIndex(start=1013238, stop=1016037, step=1), 615.7367925022279), (4, RangeIndex(start=1024434, stop=1027233, step=1), 562.8419877358097), (4, RangeIndex(start=1030032, stop=1032831, step=1), 643.2326236651256), (4, RangeIndex(start=1035630, stop=1038429, step=1), 783.353845613332), (4, RangeIndex(start=1046826, stop=1049625, step=1), 629.0714766870101), (4, RangeIndex(start=1058022, stop=1060821, step=1), 635.0281649893922), (4, RangeIndex(start=1066419, stop=1069218, step=1), 600.3684868925145), (4, RangeIndex(start=1072017, stop=1074816, step=1), 705.8819156123508), (4, RangeIndex(start=1074816, stop=1077614, step=1), 622.2844431337628), (4, RangeIndex(start=1077614, stop=1080412, step=1), 688.2686395729908), (4, RangeIndex(start=1080412, stop=1083210, step=1), 517.8208945275562), (4, RangeIndex(start=1083210, stop=1086008, step=1), 673.0679931772514), (4, RangeIndex(start=1086008, stop=1088806, step=1), 598.8988262165976), (4, RangeIndex(start=1091604, stop=1094402, step=1), 599.7839246564859), (4, RangeIndex(start=1094402, stop=1097200, step=1), 599.7637330654344), (4, RangeIndex(start=1097200, stop=1099998, step=1), 705.4739349685402), (4, RangeIndex(start=1099998, stop=1102796, step=1), 738.5648911334896), (4, RangeIndex(start=1113988, stop=1116786, step=1), 692.7074844160337), (4, RangeIndex(start=1116786, stop=1119584, step=1), 647.536244811851), (4, RangeIndex(start=1119584, stop=1122382, step=1), 728.3222984456646), (4, RangeIndex(start=1122382, stop=1125180, step=1), 581.8645284922997), (4, RangeIndex(start=1125180, stop=1127978, step=1), 600.0231624006057), (4, RangeIndex(start=1127978, stop=1130776, step=1), 669.6841679869696), (4, RangeIndex(start=1130776, stop=1133574, step=1), 621.6254489616525), (4, RangeIndex(start=1136372, stop=1139170, step=1), 660.8123456977889), (4, RangeIndex(start=1139170, stop=1141968, step=1), 617.1298874123229), (4, RangeIndex(start=1141968, stop=1144766, step=1), 765.0403771219002), (4, RangeIndex(start=1144766, stop=1147564, step=1), 697.7376584157548), (4, RangeIndex(start=1147564, stop=1150362, step=1), 660.2376072577086), (4, RangeIndex(start=1153160, stop=1155958, step=1), 668.8134170477156), (4, RangeIndex(start=1155958, stop=1158756, step=1), 697.098454209295), (4, RangeIndex(start=1161554, stop=1164352, step=1), 580.9838796367338), (4, RangeIndex(start=1167150, stop=1169948, step=1), 640.2267028929015), (4, RangeIndex(start=1169948, stop=1172746, step=1), 692.4637345577822), (4, RangeIndex(start=1172746, stop=1175544, step=1), 646.3333229320109), (4, RangeIndex(start=1183938, stop=1186736, step=1), 690.6375349266418), (4, RangeIndex(start=1189534, stop=1192332, step=1), 632.4513475666896), (4, RangeIndex(start=1200726, stop=1203524, step=1), 589.5828442300343), (4, RangeIndex(start=1203524, stop=1206322, step=1), 631.5639393461929), (4, RangeIndex(start=1209120, stop=1211918, step=1), 774.9958618117502), (4, RangeIndex(start=1228706, stop=1231504, step=1), 623.5991472149141), (4, RangeIndex(start=1234302, stop=1237100, step=1), 725.5505579395219), (4, RangeIndex(start=1251090, stop=1253888, step=1), 628.2118065839476), (4, RangeIndex(start=1256686, stop=1259484, step=1), 686.6693942674849), (4, RangeIndex(start=1265080, stop=1267878, step=1), 626.3492105369742), (4, RangeIndex(start=1267878, stop=1270676, step=1), 650.2439485276147), (4, RangeIndex(start=1270676, stop=1273474, step=1), 626.1996196048271), (4, RangeIndex(start=1276272, stop=1279070, step=1), 695.6506346988956), (4, RangeIndex(start=1284666, stop=1287464, step=1), 733.084389417139), (4, RangeIndex(start=1287464, stop=1290262, step=1), 733.5470246984405), (4, RangeIndex(start=1293060, stop=1295858, step=1), 733.4398296083589), (4, RangeIndex(start=1295858, stop=1298656, step=1), 620.5585955903699), (4, RangeIndex(start=1298656, stop=1301454, step=1), 785.4601549300384), (4, RangeIndex(start=1301454, stop=1304252, step=1), 671.6983604116242), (4, RangeIndex(start=1307050, stop=1309848, step=1), 729.6944955395242), (4, RangeIndex(start=1309848, stop=1312646, step=1), 744.1918097592171), (4, RangeIndex(start=1312646, stop=1315444, step=1), 599.8877073559363), (4, RangeIndex(start=1315444, stop=1318242, step=1), 740.4295787228159), (4, RangeIndex(start=1332232, stop=1335030, step=1), 721.1428573590829), (4, RangeIndex(start=1340626, stop=1343424, step=1), 724.3036651349604), (4, RangeIndex(start=1343424, stop=1346222, step=1), 727.7583636035957), (4, RangeIndex(start=1346222, stop=1349020, step=1), 686.5276973759611), (4, RangeIndex(start=1349020, stop=1351818, step=1), 586.71249414032), (4, RangeIndex(start=1365808, stop=1368606, step=1), 862.4003890941364), (4, RangeIndex(start=1379798, stop=1382596, step=1), 698.9390974294244), (4, RangeIndex(start=1388192, stop=1390990, step=1), 658.4319235141265), (4, RangeIndex(start=1393788, stop=1396586, step=1), 741.6713651178089)]\n"
     ]
    }
   ],
   "source": [
    "print(test_result)"
   ]
  },
  {
   "cell_type": "code",
   "execution_count": 42,
   "metadata": {},
   "outputs": [
    {
     "data": {
      "text/plain": [
       "[(0, 131, 291.7729297285441),\n",
       " (0, 463, 446.0485028007956),\n",
       " (2, 126, 288.7127478130077),\n",
       " (2, 133, 291.9816533246967),\n",
       " (3, 76, 325.0002668229807),\n",
       " (4, 347, 312.31589160859886),\n",
       " (8, 34, 291.1624019461376)]"
      ]
     },
     "execution_count": 42,
     "metadata": {},
     "output_type": "execute_result"
    }
   ],
   "source": [
    "test_result2  # anomaly in training dataset using 4*std"
   ]
  },
  {
   "cell_type": "code",
   "execution_count": 48,
   "metadata": {},
   "outputs": [],
   "source": [
    "# def test model:\n",
    "\n",
    "\n",
    "\n",
    "\n",
    "\n",
    "\n",
    "    #         if len(anomaly_record)/len(w_time_t) > 0.8 and len(anomaly_record)>10:\n",
    "    #             print(\"anomaly detected! Location file:{0},fraction:{1}\".format(i,j)) \n",
    "    #             break\n",
    "\n"
   ]
  },
  {
   "cell_type": "code",
   "execution_count": 18,
   "metadata": {},
   "outputs": [
    {
     "data": {
      "text/plain": [
       "(95.50131558476538,\n",
       " 23.007848245918634,\n",
       " 246.02693623791504,\n",
       " 65.33495402168698,\n",
       " 180.69198221622804)"
      ]
     },
     "execution_count": 18,
     "metadata": {},
     "output_type": "execute_result"
    }
   ],
   "source": [
    "np.mean(w_time_t),np.std(w_time_t),np.max(w_time_t),np.min(w_time_t),np.ptp(w_time_t)"
   ]
  },
  {
   "cell_type": "code",
   "execution_count": 21,
   "metadata": {},
   "outputs": [
    {
     "name": "stdout",
     "output_type": "stream",
     "text": [
      "[(11, 0), (11, 4), (11, 12), (11, 13), (11, 17), (11, 19), (11, 23), (11, 24), (11, 25), (11, 29), (11, 30), (11, 31), (11, 35), (11, 37), (11, 38), (11, 39), (11, 40), (11, 41), (11, 42), (11, 43), (11, 44), (11, 46), (11, 47), (11, 50), (11, 52), (11, 53), (11, 54), (11, 55), (11, 59), (11, 60), (11, 61), (11, 62), (11, 63), (11, 64), (11, 65), (11, 66), (11, 67), (11, 68), (11, 69), (11, 71), (11, 73), (11, 74), (11, 75), (11, 76), (11, 77), (11, 78), (11, 79), (11, 80), (11, 83), (11, 87), (11, 91), (11, 95), (11, 96), (11, 100), (11, 103), (11, 105), (11, 106), (11, 107), (11, 111), (11, 112), (11, 113), (11, 116), (11, 117), (11, 119), (11, 120), (11, 121), (11, 122), (11, 124), (11, 125), (11, 126), (11, 128), (11, 129), (11, 130), (11, 131), (11, 132), (11, 134), (11, 135), (11, 136), (11, 137), (11, 139), (11, 141), (11, 142), (11, 143), (11, 144), (11, 145), (11, 146), (11, 147), (11, 148), (11, 149), (11, 150), (11, 153), (11, 155), (11, 156), (11, 157), (11, 158), (11, 159), (11, 160), (11, 161), (11, 162), (11, 163), (11, 164), (11, 165), (11, 166), (11, 170), (11, 174), (11, 178), (11, 179), (11, 181), (11, 182), (11, 183), (11, 184), (11, 186), (11, 188), (11, 189), (11, 190), (11, 192), (11, 194), (11, 195), (11, 196), (11, 197), (11, 198), (11, 200), (11, 201), (11, 202), (11, 203), (11, 204), (11, 205), (11, 206), (11, 207), (11, 208), (11, 209), (11, 210), (11, 212), (11, 213), (11, 214), (11, 215), (11, 216), (11, 217), (11, 218), (11, 219), (11, 220), (11, 222), (11, 224), (11, 225), (11, 226), (11, 227), (11, 228), (11, 229), (11, 230), (11, 231), (11, 232), (11, 233), (11, 234), (11, 236), (11, 238), (11, 239), (11, 240), (11, 241), (11, 242), (11, 243), (11, 244), (11, 245), (11, 247), (11, 249), (11, 253), (11, 259), (11, 262), (11, 264), (11, 265), (11, 266), (11, 268), (11, 269), (11, 270), (11, 271), (11, 272), (11, 273), (11, 278), (11, 279), (11, 280), (11, 281), (11, 282), (11, 284), (11, 286), (11, 287), (11, 288), (11, 289), (11, 290), (11, 291), (11, 292), (11, 293), (11, 294), (11, 295), (11, 296), (11, 297), (11, 298), (11, 300), (11, 301), (11, 302), (11, 303), (11, 305), (11, 306), (11, 307), (11, 308), (11, 309), (11, 310), (11, 311), (11, 312), (11, 313), (11, 315), (11, 316), (11, 318), (11, 319), (11, 320), (11, 321), (11, 322), (11, 323), (11, 324), (11, 325), (11, 326), (11, 327), (11, 328), (11, 330), (11, 331), (11, 332), (11, 333), (11, 334), (11, 338), (11, 341), (11, 345), (11, 346), (11, 349), (11, 350), (11, 351), (11, 352), (11, 353), (11, 354), (11, 355), (11, 356), (11, 358), (11, 360), (11, 361), (11, 362), (11, 365), (11, 366), (11, 368), (11, 370), (11, 371), (11, 372), (11, 373), (11, 374), (11, 375), (11, 376), (11, 377), (11, 379), (11, 380), (11, 381), (11, 382), (11, 384), (11, 385), (11, 386), (11, 388), (11, 389), (11, 390), (11, 391), (11, 392), (11, 393), (11, 394), (11, 395), (11, 396), (11, 398), (11, 399), (11, 400), (11, 401), (11, 402), (11, 404), (11, 406), (11, 407), (11, 408), (11, 409), (11, 410), (11, 412), (11, 416), (11, 420), (11, 421), (11, 423), (11, 424), (11, 428), (11, 430), (11, 431), (11, 432), (11, 437), (11, 439), (11, 440), (11, 443), (11, 445), (11, 446), (11, 447), (11, 448), (11, 449), (11, 450), (11, 451), (11, 453), (11, 454), (11, 457), (11, 459), (11, 460), (11, 461), (11, 462), (11, 464), (11, 466), (11, 467), (11, 468), (11, 469), (11, 470), (11, 471), (11, 472), (11, 473), (11, 474), (11, 475), (11, 476), (11, 477), (11, 478), (11, 480), (11, 481), (11, 482), (11, 483), (11, 484), (11, 485), (11, 486), (11, 489), (11, 490), (11, 493), (11, 497), (11, 498), (12, 0), (12, 1), (12, 4), (12, 8), (12, 13), (12, 15), (12, 16), (12, 17), (12, 19), (12, 23), (12, 24), (12, 30), (12, 32), (12, 33), (12, 34), (12, 36), (12, 38), (12, 39), (12, 40), (12, 41), (12, 42), (12, 43), (12, 45), (12, 46), (12, 49), (12, 50), (12, 51), (12, 52), (12, 53), (12, 54), (12, 56), (12, 57), (12, 58), (12, 59), (12, 60), (12, 61), (12, 62), (12, 63), (12, 64), (12, 65), (12, 66), (12, 67), (12, 68), (12, 69), (12, 70), (12, 72), (12, 73), (12, 74), (12, 75), (12, 76), (12, 77), (12, 78), (12, 80), (12, 82), (12, 84), (12, 86), (12, 88), (12, 89), (12, 90), (12, 94), (12, 95), (12, 96), (12, 97), (12, 101), (12, 102), (12, 104), (12, 105), (12, 106), (12, 111), (12, 112), (12, 113), (12, 114), (12, 116), (12, 117), (12, 118), (12, 119), (12, 120), (12, 121), (12, 122), (12, 123), (12, 124), (12, 125), (12, 126), (12, 127), (12, 128), (12, 129), (12, 130), (12, 131), (12, 132), (12, 133), (12, 134), (12, 135), (12, 136), (12, 137), (12, 138), (12, 139), (12, 140), (12, 141), (12, 142), (12, 143), (12, 144), (12, 145), (12, 146), (12, 147), (12, 148), (12, 150), (12, 151), (12, 152), (12, 153), (12, 154), (12, 155), (12, 156), (12, 157), (12, 158), (12, 159), (12, 160), (12, 161), (12, 162), (12, 163), (12, 164), (12, 165), (12, 168), (12, 172), (12, 175), (12, 176), (12, 177), (12, 179), (12, 180), (12, 181), (12, 183), (12, 184), (12, 186), (12, 187), (12, 188), (12, 192), (12, 193), (12, 194), (12, 195), (12, 196), (12, 199), (12, 201), (12, 202), (12, 203), (12, 204), (12, 205), (12, 206), (12, 208), (12, 209), (12, 211), (12, 212), (12, 213), (12, 214), (12, 215), (12, 216), (12, 217), (12, 219), (12, 220), (12, 221), (12, 222), (12, 223), (12, 224), (12, 225), (12, 226), (12, 227), (12, 229), (12, 230), (12, 232), (12, 233), (12, 235), (12, 236), (12, 237), (12, 238), (12, 239), (12, 240), (12, 241), (12, 242), (12, 245), (12, 246), (12, 247), (12, 251), (12, 255), (12, 259), (12, 260), (12, 261), (12, 262), (12, 263), (12, 264), (12, 265), (12, 266), (12, 267), (12, 268), (12, 269), (12, 273), (12, 275), (12, 277), (12, 278), (12, 279), (12, 281), (12, 283), (12, 284), (12, 285), (12, 286), (12, 287), (12, 288), (12, 289), (12, 290), (12, 291), (12, 293), (12, 295), (12, 296), (12, 297), (12, 298), (12, 299), (12, 300), (12, 302), (12, 303), (12, 304), (12, 305), (12, 306), (12, 307), (12, 308), (12, 309), (12, 310), (12, 311), (12, 312), (12, 313), (12, 314), (12, 315), (12, 316), (12, 317), (12, 318), (12, 319), (12, 320), (12, 321), (12, 322), (12, 323), (12, 324), (12, 325), (12, 327), (12, 328), (12, 329), (12, 333), (12, 337), (12, 341), (12, 342), (12, 344), (12, 345), (12, 346), (12, 347), (12, 348), (12, 349), (12, 350), (12, 351), (12, 352), (12, 356), (12, 357), (12, 358), (12, 362), (12, 363), (12, 364), (12, 366), (12, 367), (12, 368), (12, 369), (12, 370), (12, 371), (12, 372), (12, 373), (12, 374), (12, 376), (12, 377), (12, 378), (12, 379), (12, 380), (12, 381), (12, 382), (12, 384), (12, 386), (12, 387), (12, 388), (12, 389), (12, 390), (12, 391), (12, 392), (12, 393), (12, 394), (12, 395), (12, 396), (12, 398), (12, 400), (12, 401), (12, 402), (12, 403), (12, 404), (12, 405), (12, 406), (12, 407), (12, 408), (12, 410), (12, 411), (12, 412), (12, 413), (12, 414), (12, 418), (12, 421), (12, 425), (12, 426), (12, 428), (12, 430), (12, 431), (12, 432), (12, 433), (12, 434), (12, 437), (12, 438), (12, 439), (12, 441), (12, 442), (12, 443), (12, 445), (12, 447), (12, 448), (12, 449), (12, 450), (12, 451), (12, 452), (12, 453), (12, 455), (12, 457), (12, 458), (12, 459), (12, 460), (12, 461), (12, 462), (12, 463), (12, 464), (12, 465), (12, 466), (12, 467), (12, 469), (12, 470), (12, 471), (12, 472), (12, 473), (12, 474), (12, 475), (12, 477), (12, 478), (12, 480), (12, 481), (12, 482), (12, 483), (12, 484), (12, 485), (12, 486), (12, 487), (12, 488), (12, 489), (12, 492), (12, 493), (12, 495), (12, 497), (12, 498), (13, 0), (13, 8), (13, 21), (13, 22), (13, 24), (13, 26), (13, 27), (13, 28), (13, 31), (13, 32), (13, 34), (13, 36), (13, 37), (13, 38), (13, 40), (13, 41), (13, 42), (13, 46), (13, 47), (13, 56), (13, 57), (13, 59), (13, 60), (13, 66), (13, 69), (13, 70), (13, 71), (13, 72), (13, 73), (13, 98), (13, 101), (13, 104), (13, 105), (13, 107), (13, 110), (13, 112), (13, 113), (13, 114), (13, 116), (13, 117), (13, 119), (13, 120), (13, 123), (13, 124), (13, 128), (13, 131), (13, 133), (13, 135), (13, 136), (13, 137), (13, 139), (13, 143), (13, 145), (13, 146), (13, 147), (13, 148), (13, 149), (13, 150), (13, 174), (13, 175), (13, 181), (13, 182), (13, 184), (13, 187), (13, 188), (13, 189), (13, 190), (13, 192), (13, 193), (13, 194), (13, 199), (13, 200), (13, 204), (13, 208), (13, 209), (13, 210), (13, 211), (13, 212), (13, 214), (13, 218), (13, 219), (13, 220), (13, 222), (13, 223), (13, 224), (13, 225), (13, 226), (13, 227), (13, 251), (13, 252), (13, 254), (13, 258), (13, 260), (13, 261), (13, 264), (13, 266), (13, 267), (13, 269), (13, 270), (13, 275), (13, 276), (13, 277), (13, 279), (13, 281), (13, 283), (13, 285), (13, 286), (13, 288), (13, 289), (13, 295), (13, 296), (13, 297), (13, 300), (13, 302), (13, 303), (13, 304), (13, 328), (13, 329), (13, 332), (13, 335), (13, 336), (13, 337), (13, 338), (13, 341), (13, 342), (13, 344), (13, 346), (13, 347), (13, 348), (13, 353), (13, 354), (13, 356), (13, 361), (13, 362), (13, 364), (13, 365), (13, 366), (13, 367), (13, 368), (13, 370), (13, 374), (13, 376), (13, 377), (13, 378), (13, 379), (13, 380), (13, 381), (13, 386), (13, 406), (13, 407), (13, 408), (13, 412), (13, 413), (13, 414), (13, 415), (13, 418), (13, 420), (13, 421), (13, 422), (13, 423), (13, 424), (13, 425), (13, 427), (13, 428), (13, 430), (13, 431), (13, 433), (13, 438), (13, 441), (13, 442), (13, 446), (13, 447), (13, 451), (13, 452), (13, 453), (13, 455), (13, 457), (13, 458), (13, 459), (13, 475), (13, 482), (13, 483), (13, 486), (13, 488), (13, 489), (13, 490), (13, 491), (13, 492), (13, 494), (13, 496), (13, 498), (13, 499), (14, 0), (14, 9), (14, 14), (14, 18), (14, 21), (14, 49), (14, 69), (14, 94), (14, 103), (14, 110), (14, 126), (14, 129), (14, 131), (14, 132), (14, 136), (14, 137), (14, 138), (14, 139), (14, 141), (14, 142), (14, 143), (14, 145), (14, 146), (14, 147), (14, 148), (14, 150), (14, 152), (14, 155), (14, 156), (14, 158), (14, 159), (14, 160), (14, 162), (14, 163), (14, 164), (14, 165), (14, 168), (14, 171), (14, 181), (14, 184), (14, 185), (14, 186), (14, 187), (14, 192), (14, 193), (14, 194), (14, 196), (14, 200), (14, 205), (14, 206), (14, 208), (14, 210), (14, 213), (14, 215), (14, 220), (14, 222), (14, 224), (14, 227), (14, 229), (14, 231), (14, 234), (14, 236), (14, 241), (14, 243), (14, 249), (14, 250), (14, 256), (14, 257), (14, 264), (14, 270), (14, 271), (14, 274), (14, 278), (14, 284), (14, 287), (14, 290), (14, 291), (14, 295), (14, 297), (14, 298), (14, 300), (14, 304), (14, 305), (14, 311), (14, 312), (14, 313), (14, 314), (14, 315), (14, 316), (14, 317), (14, 319), (14, 320), (14, 321), (14, 322), (14, 324), (14, 325), (14, 327), (14, 328), (14, 329), (14, 330), (14, 331), (14, 332), (14, 334), (14, 335), (14, 338), (14, 339), (14, 343), (14, 344), (14, 347), (14, 352), (14, 354), (14, 360), (14, 361), (14, 364), (14, 366), (14, 367), (14, 369), (14, 372), (14, 373), (14, 378), (14, 381), (14, 382), (14, 384), (14, 385), (14, 388), (14, 389), (14, 390), (14, 395), (14, 398), (14, 400), (14, 402), (14, 406), (14, 407), (14, 408), (14, 409), (14, 414), (14, 417), (14, 419), (14, 420), (14, 421), (14, 423), (14, 426), (14, 427), (14, 431), (14, 432), (14, 434), (14, 435), (14, 437), (14, 438), (14, 440), (14, 444), (14, 445), (14, 450), (14, 452), (14, 459), (14, 460), (14, 461), (14, 462), (14, 463), (14, 466), (14, 467), (14, 468), (14, 469), (14, 470), (14, 471), (14, 473), (14, 474), (14, 475), (14, 477), (14, 478), (14, 479), (14, 481), (14, 482), (14, 485), (14, 486), (14, 487), (14, 489), (14, 490), (14, 493), (14, 496), (14, 497), (14, 498), (15, 0), (15, 18), (15, 21), (15, 22), (15, 26), (15, 27), (15, 28), (15, 30), (15, 31), (15, 32), (15, 35), (15, 36), (15, 38), (15, 39), (15, 40), (15, 41), (15, 42), (15, 44), (15, 45), (15, 46), (15, 48), (15, 52), (15, 77), (15, 84), (15, 93), (15, 100), (15, 108), (15, 116), (15, 132), (15, 140), (15, 148), (15, 154), (15, 155), (15, 162), (15, 163), (15, 164), (15, 171), (15, 176), (15, 178), (15, 179), (15, 184), (15, 185), (15, 186), (15, 192), (15, 193), (15, 194), (15, 200), (15, 206), (15, 208), (15, 213), (15, 214), (15, 215), (15, 220), (15, 221), (15, 222), (15, 224), (15, 225), (15, 226), (15, 227), (15, 229), (15, 230), (15, 231), (15, 236), (15, 238), (15, 240), (15, 242), (15, 244), (15, 245), (15, 246), (15, 247), (15, 248), (15, 253), (15, 254), (15, 255), (15, 259), (15, 260), (15, 262), (15, 267), (15, 268), (15, 269), (15, 272), (15, 275), (15, 280), (15, 282), (15, 285), (15, 289), (15, 295), (15, 301), (15, 302), (15, 303), (15, 304), (15, 306), (15, 307), (15, 308), (15, 309), (15, 311), (15, 313), (15, 314), (15, 315), (15, 318), (15, 322), (15, 323), (15, 324), (15, 328), (15, 331), (15, 334), (15, 336), (15, 337), (15, 341), (15, 343), (15, 344), (15, 346), (15, 347), (15, 348), (15, 350), (15, 351), (15, 353), (15, 356), (15, 357), (15, 360), (15, 361), (15, 362), (15, 366), (15, 368), (15, 370), (15, 374), (15, 378), (15, 381), (15, 383), (15, 384), (15, 385), (15, 386), (15, 387), (15, 388), (15, 390), (15, 391), (15, 392), (15, 393), (15, 398), (15, 399), (15, 400), (15, 401), (15, 402), (15, 403), (15, 404), (15, 406), (15, 407), (15, 408), (15, 409), (15, 410), (15, 412), (15, 413), (15, 415), (15, 417), (15, 418), (15, 419), (15, 423), (15, 425), (15, 429), (15, 430), (15, 432), (15, 439), (15, 441), (15, 447), (15, 449), (15, 452), (15, 453), (15, 454), (15, 456), (15, 459), (15, 460), (15, 462), (15, 463), (15, 464), (15, 465), (15, 467), (15, 468), (15, 469), (15, 470), (15, 476), (15, 479), (15, 480), (15, 481), (15, 482), (15, 488), (15, 493), (15, 496), (15, 498)]\n"
     ]
    }
   ],
   "source": [
    "print(anomaly_record)"
   ]
  },
  {
   "cell_type": "code",
   "execution_count": 24,
   "metadata": {
    "scrolled": true
   },
   "outputs": [
    {
     "data": {
      "text/plain": [
       "2500"
      ]
     },
     "execution_count": 24,
     "metadata": {},
     "output_type": "execute_result"
    }
   ],
   "source": [
    "len(w_time_t)"
   ]
  },
  {
   "cell_type": "code",
   "execution_count": 6,
   "metadata": {},
   "outputs": [],
   "source": []
  },
  {
   "cell_type": "code",
   "execution_count": 30,
   "metadata": {},
   "outputs": [],
   "source": [
    "# def gen_concat_df(d1,d2):\n",
    "#     df_0 = pd.concat([d1,d2])\n",
    "#     return df_0\n",
    "\n",
    "\n",
    "# def gen_model_df(dataframe):\n",
    "#     newdata = []\n",
    "#     dataframe[\"key\"] = dataframe[\"class\"] + dataframe[\"event\"]\n",
    "#     dataframe[\"numKey\"] = dataframe[\"key\"].apply(lambda x: full_keyset.index(x) if x in full_keyset else -1)  \n",
    "#     dataframe = dataframe[dataframe.numKey != -1]\n",
    "#     dataframe[\"interval\"] = dataframe[\"time\"].diff()\n",
    "#     dataframe = dataframe[dataframe.interval != 0]    # delete events that happen at same time(0.6% total records), current no better method!\n",
    "#     data_temp=dataframe[[\"key\",\"numKey\",\"interval\"]]\n",
    "#     return data_temp\n",
    "\n",
    "# def interval_matrix(transitions,interval):  # return transition,avgtime,variance Matrix\n",
    "    \n",
    "#     n = 1+ max(transitions)  # number of states\n",
    "#     M = [[0]*n for _ in range(n)] # transition matrix\n",
    "#     N = [[0]*n for _ in range(n)] # average time matrix\n",
    "#     X = [[0]*n for _ in range(n)] # standard deviation matrix\n",
    "#     u = 0\n",
    "\n",
    "#     for (i,j) in zip(transitions,transitions[1:]):\n",
    "#         u += 1\n",
    "#         M[i][j] += 1\n",
    "#         N[i][j] += interval[u]\n",
    "#         avg_local = N[i][j]/M[i][j]\n",
    "#         absdis = interval[u]-avg_local\n",
    "#         sdv_local = sqrt(absdis*absdis/(M[i][j]))\n",
    "#         X[i][j] = sdv_local\n",
    "    \n",
    "#     a = np.array(N)\n",
    "#     b = np.array(M)\n",
    "#     N = np.divide(a, b, out = np.zeros_like(a), where = b!= 0) # take average time interval of each event sequence\n",
    "\n",
    "#     for row in M:\n",
    "#         s = sum(row)\n",
    "#         if s > 0:\n",
    "#             row[:] = [f/s for f in row]\n",
    "            \n",
    "#     M = np.array(M)\n",
    "#     X = np.array(X)\n",
    "#     return M,N,X\n",
    "\n",
    "# def concat_df(data1,data2):\n",
    "    \n",
    "#     newdata=[]\n",
    "#     data0 = pd.concat([data1,data2])\n",
    "#     data0[\"key\"] = data0[\"class\"] + data0[\"event\"]\n",
    "#     data0[\"numKey\"] = data0[\"key\"].apply(lambda x: full_keyset.index(x) if x in full_keyset else -1)  \n",
    "#     data0 = data0[data0.numKey != -1]\n",
    "#     data0.sort_values(\"time\", axis = 0, ascending = True, inplace = True)\n",
    "#     data0[\"interval\"] = data0[\"time\"].diff()\n",
    "#     data0 = data0[data0.interval != 0]    # delete events that happen at same time(0.6% total records), current no better method!\n",
    "# #     data0.index = pd.RangeIndex(len(data0.index))\n",
    "#     data_temp=data0[[\"key\",\"numKey\",\"interval\"]]\n",
    "#     return data_temp,data0\n"
   ]
  },
  {
   "cell_type": "code",
   "execution_count": null,
   "metadata": {},
   "outputs": [],
   "source": []
  },
  {
   "cell_type": "code",
   "execution_count": 66,
   "metadata": {},
   "outputs": [
    {
     "data": {
      "text/plain": [
       "{(0, 'PROCESSPROCTHREAD_NAME'),\n",
       " (1, 'INT_ENTR0x00000044'),\n",
       " (2, 'COMMREPLY_MESSAGE'),\n",
       " (3, 'CONTROLTIME'),\n",
       " (4, 'USREVENTEVENT-2'),\n",
       " (5, 'KER_CALLMSG_DELIVER_EVENT/21'),\n",
       " (6, 'COMMREC_PULSE'),\n",
       " (7, 'INT_HANDLER_EXIT0x00000049'),\n",
       " (8, 'INT_HANDLER_ENTR0x0000002e'),\n",
       " (9, 'INT_EXIT0x00000049'),\n",
       " (10, 'THREADTHCONDVAR'),\n",
       " (11, 'THREADTHREADY'),\n",
       " (12, 'THREADTHSIGWAITINFO'),\n",
       " (13, 'KER_CALLTIMER_TIMEOUT/75'),\n",
       " (14, 'KER_EXITMSG_CURRENT/10'),\n",
       " (15, 'COMMSND_PULSE_EXE'),\n",
       " (16, 'KER_EXITMSG_REPLYV/15'),\n",
       " (17, 'KER_CALLCONNECT_CLIENT_INFO/42'),\n",
       " (18, 'KER_CALLSIGNAL_WAITINFO/32'),\n",
       " (19, 'KER_EXITMSG_INFO/19'),\n",
       " (20, 'USREVENTEVENT-0'),\n",
       " (21, 'INT_HANDLER_ENTR0x00000029'),\n",
       " (22, 'KER_CALLMSG_ERROR/13'),\n",
       " (23, 'KER_EXITMSG_SENDV/11'),\n",
       " (24, 'KER_CALLMSG_SENDV/11'),\n",
       " (25, 'KER_CALLMSG_CURRENT/10'),\n",
       " (26, 'KER_CALLCONNECT_DETACH/40'),\n",
       " (27, 'INT_EXIT0x00000044'),\n",
       " (28, 'USREVENTEVENT-3'),\n",
       " (29, 'KER_CALLMSG_SENDVNC/12'),\n",
       " (30, 'INT_HANDLER_ENTR0x00000044'),\n",
       " (31, 'KER_CALLSYNC_CONDVAR_SIGNAL/83'),\n",
       " (32, 'THREADTHWAITPAGE'),\n",
       " (33, 'KER_EXITSYNC_CONDVAR_WAIT/82'),\n",
       " (34, 'KER_CALLMSG_RECEIVEV/14'),\n",
       " (35, 'KER_EXITTRACE_EVENT/01'),\n",
       " (36, 'INT_ENTR0x00000029'),\n",
       " (37, 'SYSTEMPATHMGR_OPEN'),\n",
       " (38, 'THREADTHNANOSLEEP'),\n",
       " (39, 'CONTROLBUFFER'),\n",
       " (40, 'INT_HANDLER_ENTR0x0000002d'),\n",
       " (41, 'KER_CALLSYNC_CONDVAR_WAIT/82'),\n",
       " (42, 'INT_EXIT0x00000029'),\n",
       " (43, 'KER_CALLMSG_WRITEV/17'),\n",
       " (44, 'KER_CALLMSG_READV/16'),\n",
       " (45, 'KER_EXITCONNECT_ATTACH/39'),\n",
       " (46, 'KER_EXITCONNECT_DETACH/40'),\n",
       " (47, 'KER_EXITTIMER_TIMEOUT/75'),\n",
       " (48, 'COMMREC_MESSAGE'),\n",
       " (49, 'PROCESSPROCCREATE_NAME'),\n",
       " (50, 'INT_EXIT0x0000002d'),\n",
       " (51, 'KER_EXITMSG_SENDVNC/12'),\n",
       " (52, 'USREVENTEVENT-1'),\n",
       " (53, 'THREADTHREPLY'),\n",
       " (54, 'KER_EXITMSG_DELIVER_EVENT/21'),\n",
       " (55, 'THREADTHRECEIVE'),\n",
       " (56, 'KER_CALLCONNECT_FLAGS/43'),\n",
       " (57, 'KER_EXITMSG_WRITEV/17'),\n",
       " (58, 'INT_ENTR0x00000049'),\n",
       " (59, 'INT_ENTR0x0000002d'),\n",
       " (60, 'KER_EXITSYNC_CONDVAR_SIG/83'),\n",
       " (61, 'INT_HANDLER_EXIT0x00000029'),\n",
       " (62, 'INT_HANDLER_ENTR0x00000049'),\n",
       " (63, 'KER_CALLMSG_REPLYV/15'),\n",
       " (64, 'KER_CALLMSG_INFO/19'),\n",
       " (65, 'INT_EXIT0x0000002e'),\n",
       " (66, 'KER_EXITCONNECT_CLIENT_INFO/42'),\n",
       " (67, 'KER_EXITCONNECT_FLAGS/43'),\n",
       " (68, 'THREADTHRUNNING'),\n",
       " (69, 'INT_HANDLER_EXIT0x00000044'),\n",
       " (70, 'INT_HANDLER_EXIT0x0000002e'),\n",
       " (71, 'COMMMSG_ERROR'),\n",
       " (72, 'KER_EXITMSG_READV/16'),\n",
       " (73, 'KER_EXITMSG_ERROR/13'),\n",
       " (74, 'COMMSND_MESSAGE'),\n",
       " (75, 'INT_ENTR0x0000002e'),\n",
       " (76, 'THREADTHCREATE'),\n",
       " (77, 'KER_CALLCONNECT_ATTACH/39'),\n",
       " (78, 'THREADTHJOIN'),\n",
       " (79, 'KER_EXITMSG_RECEIVEV/14'),\n",
       " (80, 'THREADTHSEND'),\n",
       " (81, 'KER_EXITSIGNAL_WAITINFO/32'),\n",
       " (82, 'INT_HANDLER_EXIT0x0000002d')}"
      ]
     },
     "execution_count": 66,
     "metadata": {},
     "output_type": "execute_result"
    }
   ],
   "source": [
    "set(list(zip(cc0['numKey'], cc0['key'])))"
   ]
  },
  {
   "cell_type": "code",
   "execution_count": 43,
   "metadata": {},
   "outputs": [],
   "source": [
    "a = split_testing(data1,100)"
   ]
  },
  {
   "cell_type": "code",
   "execution_count": 50,
   "metadata": {},
   "outputs": [
    {
     "data": {
      "text/plain": [
       "RangeIndex(start=340050, stop=346851, step=1)"
      ]
     },
     "execution_count": 50,
     "metadata": {},
     "output_type": "execute_result"
    }
   ],
   "source": [
    "a[50].index"
   ]
  }
 ],
 "metadata": {
  "kernelspec": {
   "display_name": "Python 3",
   "language": "python",
   "name": "python3"
  },
  "language_info": {
   "codemirror_mode": {
    "name": "ipython",
    "version": 3
   },
   "file_extension": ".py",
   "mimetype": "text/x-python",
   "name": "python",
   "nbconvert_exporter": "python",
   "pygments_lexer": "ipython3",
   "version": "3.7.3"
  }
 },
 "nbformat": 4,
 "nbformat_minor": 2
}
